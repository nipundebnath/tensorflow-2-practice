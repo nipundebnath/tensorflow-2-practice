{
 "cells": [
  {
   "cell_type": "markdown",
   "metadata": {
    "pycharm": {
     "name": "#%% md\n"
    }
   },
   "source": [
    "# **LINEAR MODEL**\n",
    "\n",
    "## Problem\n",
    "\n",
    "Build a linear model that predicts the price of a house according to a simple formula:\n",
    "$price = \\$50,000 * (\\#bedrooms) + \\$50,000$.\n",
    "\n",
    "Hint: Your network might work better if you scale the house price down."
   ]
  },
  {
   "cell_type": "markdown",
   "metadata": {
    "pycharm": {
     "name": "#%% md\n"
    }
   },
   "source": [
    "## Initialize"
   ]
  },
  {
   "cell_type": "code",
   "execution_count": 1,
   "metadata": {
    "jupyter": {
     "outputs_hidden": false
    },
    "pycharm": {
     "name": "#%%\n"
    }
   },
   "outputs": [],
   "source": [
    "import numpy as np\n",
    "import tensorflow as tf\n",
    "import matplotlib as mpl\n",
    "\n",
    "from tensorflow.keras.layers import Input, Dense\n",
    "from tensorflow.keras.optimizers import SGD\n",
    "\n",
    "from sklearn.metrics import mean_squared_error\n",
    "from matplotlib import pyplot as plt"
   ]
  },
  {
   "cell_type": "code",
   "execution_count": 2,
   "metadata": {
    "pycharm": {
     "name": "#%%\n"
    }
   },
   "outputs": [],
   "source": [
    "# set random seeds\n",
    "np.random.seed(0)\n",
    "tf.random.set_seed(0)\n",
    "\n",
    "# show figures inline\n",
    "%matplotlib inline"
   ]
  },
  {
   "cell_type": "markdown",
   "metadata": {
    "pycharm": {
     "name": "#%% md\n"
    }
   },
   "source": [
    "## Dataset\n",
    "\n",
    "Create a dataset using this formula: $Y = 5X + 5$. <br>\n",
    "Where $X$ represents the number of bedrooms, and $Y$ represents price in $10,000."
   ]
  },
  {
   "cell_type": "code",
   "execution_count": 3,
   "metadata": {
    "jupyter": {
     "outputs_hidden": false
    },
    "pycharm": {
     "name": "#%%\n"
    }
   },
   "outputs": [
    {
     "name": "stdout",
     "output_type": "stream",
     "text": [
      "y_train: [10. 15. 25. 35. 45. 50. 55.]\n",
      "y_test: [20. 30. 40.]\n"
     ]
    }
   ],
   "source": [
    "# training dataset\n",
    "x_train = np.array([1, 2, 4, 6, 8, 9, 10], dtype='float')\n",
    "y_train = 5 + 5 * x_train\n",
    "\n",
    "# testing dataset\n",
    "x_test = np.array([3, 5, 7], dtype='float')\n",
    "y_test = 5 + 5 * x_test\n",
    "\n",
    "print(\"y_train:\", y_train)\n",
    "print(\"y_test:\", y_test)"
   ]
  },
  {
   "cell_type": "markdown",
   "metadata": {
    "pycharm": {
     "name": "#%% md\n"
    }
   },
   "source": [
    "## Model"
   ]
  },
  {
   "cell_type": "code",
   "execution_count": 4,
   "metadata": {
    "pycharm": {
     "name": "#%%\n"
    }
   },
   "outputs": [
    {
     "name": "stdout",
     "output_type": "stream",
     "text": [
      "Model: \"model\"\n",
      "_________________________________________________________________\n",
      "Layer (type)                 Output Shape              Param #   \n",
      "=================================================================\n",
      "input_1 (InputLayer)         [(None, 1)]               0         \n",
      "_________________________________________________________________\n",
      "dense (Dense)                (None, 1)                 2         \n",
      "=================================================================\n",
      "Total params: 2\n",
      "Trainable params: 2\n",
      "Non-trainable params: 0\n",
      "_________________________________________________________________\n"
     ]
    }
   ],
   "source": [
    "# layers\n",
    "x = Input(shape=[1])\n",
    "y = Dense(1)(x)\n",
    "\n",
    "# model\n",
    "model = tf.keras.Model(x, y)\n",
    "model.compile(optimizer=SGD(lr=0.01), loss='mse')\n",
    "\n",
    "# model summary\n",
    "model.summary()"
   ]
  },
  {
   "cell_type": "markdown",
   "metadata": {},
   "source": [
    "## Training\n",
    "\n",
    "**Note:**\n",
    "- High learning rate may increase the loss (i.e., model may diverge).\n",
    "- If trained for fewer epochs (e.g., 100), model may not learn the bias parameter well."
   ]
  },
  {
   "cell_type": "code",
   "execution_count": 5,
   "metadata": {
    "pycharm": {
     "name": "#%%\n"
    }
   },
   "outputs": [],
   "source": [
    "# train the model and save the history\n",
    "hist = model.fit(\n",
    "    x_train, y_train,\n",
    "    epochs=500,\n",
    "    verbose=0\n",
    ")"
   ]
  },
  {
   "cell_type": "code",
   "execution_count": 6,
   "metadata": {
    "pycharm": {
     "name": "#%%\n"
    }
   },
   "outputs": [
    {
     "data": {
      "text/plain": "<Figure size 432x288 with 1 Axes>",
      "image/png": "[encoded data removed]"
     },
     "metadata": {
      "needs_background": "light"
     },
     "output_type": "display_data"
    }
   ],
   "source": [
    "# plot the loss graph\n",
    "plt.figure()\n",
    "plt.title('Training Loss')\n",
    "plt.plot(hist.history['loss'])\n",
    "plt.xlabel('epoch')\n",
    "plt.ylabel('MSE loss')\n",
    "plt.show()"
   ]
  },
  {
   "cell_type": "markdown",
   "metadata": {},
   "source": [
    "**Learnerd parameters**:\n",
    "- For the layers with learnable parameters:\n",
    "- `model.layers[i].get_weights()` retuns a list of 2 elements.\n",
    "- 1st one is the weight, and the 2nd one is the bias."
   ]
  },
  {
   "cell_type": "code",
   "execution_count": 7,
   "metadata": {
    "pycharm": {
     "name": "#%%\n"
    }
   },
   "outputs": [
    {
     "name": "stdout",
     "output_type": "stream",
     "text": [
      "weight: [[5.05]]\n",
      "bias: [4.62]\n",
      "learned formula: Y = 5.05 * X + 4.62\n"
     ]
    }
   ],
   "source": [
    "# look at the weights\n",
    "weight, bias = model.layers[1].get_weights()\n",
    "\n",
    "# set printing precision\n",
    "np.set_printoptions(2)\n",
    "\n",
    "# print learned parameters and formula\n",
    "print(f'weight: {weight}')\n",
    "print(f'bias: {bias}')\n",
    "print(f'learned formula: Y = {weight.squeeze():.2f} * X + {bias.squeeze():.2f}')"
   ]
  },
  {
   "cell_type": "markdown",
   "metadata": {},
   "source": [
    "## Evauation"
   ]
  },
  {
   "cell_type": "code",
   "execution_count": 8,
   "metadata": {
    "pycharm": {
     "name": "#%%\n"
    }
   },
   "outputs": [
    {
     "data": {
      "text/plain": "<Figure size 432x288 with 1 Axes>",
      "image/png": "[encoded data removed]"
     },
     "metadata": {
      "needs_background": "light"
     },
     "output_type": "display_data"
    }
   ],
   "source": [
    "# test\n",
    "y_pred = model.predict(x_test)\n",
    "\n",
    "# plot\n",
    "plt.figure()\n",
    "plt.title('House Price (Test dataset)')\n",
    "plt.scatter(x_test, y_test, label='Actual')\n",
    "plt.scatter(x_test, y_pred, label='Predicted')\n",
    "plt.xlabel(r'$X$ (#bedrooms)')\n",
    "plt.ylabel(r'$Y$ (price in \\$10,000)')\n",
    "plt.legend()\n",
    "plt.show()"
   ]
  },
  {
   "cell_type": "code",
   "execution_count": 9,
   "metadata": {
    "pycharm": {
     "name": "#%%\n"
    }
   },
   "outputs": [
    {
     "name": "stdout",
     "output_type": "stream",
     "text": [
      "MSE on test dataset: 0.0229\n"
     ]
    }
   ],
   "source": [
    "# evaluate\n",
    "mse = mean_squared_error(y_test, y_pred)\n",
    "print(f\"MSE on test dataset: {mse:.4f}\")"
   ]
  }
 ],
 "metadata": {
  "kernelspec": {
   "display_name": "Python 3",
   "language": "python",
   "name": "python3"
  },
  "language_info": {
   "codemirror_mode": {
    "name": "ipython",
    "version": 3
   },
   "file_extension": ".py",
   "mimetype": "text/x-python",
   "name": "python",
   "nbconvert_exporter": "python",
   "pygments_lexer": "ipython3",
   "version": "3.7.7"
  }
 },
 "nbformat": 4,
 "nbformat_minor": 4
}