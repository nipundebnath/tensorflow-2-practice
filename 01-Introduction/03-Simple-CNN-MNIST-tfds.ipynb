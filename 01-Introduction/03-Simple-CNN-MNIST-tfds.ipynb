{
 "cells": [
  {
   "cell_type": "markdown",
   "metadata": {
    "pycharm": {
     "name": "#%% md\n"
    }
   },
   "source": [
    "# **NEURAL NETWORK**\n",
    "\n",
    "## Problem\n",
    "\n",
    "Write an MNIST classifier that trains to 99% accuracy or above.\n",
    "You should stop training once you reach that level of accuracy.\n",
    "\n",
    "Hint: It should succeed in less than 10 epochs."
   ]
  },
  {
   "cell_type": "markdown",
   "metadata": {
    "pycharm": {
     "name": "#%% md\n"
    }
   },
   "source": [
    "## Initialize"
   ]
  },
  {
   "cell_type": "code",
   "execution_count": 1,
   "metadata": {
    "jupyter": {
     "outputs_hidden": false
    },
    "pycharm": {
     "name": "#%%\n"
    }
   },
   "outputs": [],
   "source": [
    "import numpy as np\n",
    "import pandas as pd\n",
    "import tensorflow as tf\n",
    "import tensorflow_datasets as tfds\n",
    "\n",
    "from tensorflow.keras.layers import Input, Dense, Flatten, Conv2D, MaxPool2D\n",
    "from tensorflow.keras.optimizers import Adam\n",
    "\n",
    "from sklearn.metrics import confusion_matrix, precision_score, recall_score, f1_score\n",
    "from matplotlib import pyplot as plt"
   ]
  },
  {
   "cell_type": "code",
   "execution_count": 2,
   "metadata": {
    "pycharm": {
     "name": "#%%\n"
    }
   },
   "outputs": [],
   "source": [
    "# set random seeds\n",
    "np.random.seed(0)\n",
    "tf.random.set_seed(0)\n",
    "\n",
    "# show figures inline\n",
    "%matplotlib inline"
   ]
  },
  {
   "cell_type": "markdown",
   "metadata": {
    "pycharm": {
     "name": "#%% md\n"
    }
   },
   "source": [
    "## Dataset\n",
    "\n",
    "Load the MNIST dataset using `tf.tensorflow_datasets` or `tfds`.\n"
   ]
  },
  {
   "cell_type": "code",
   "execution_count": 3,
   "metadata": {
    "jupyter": {
     "outputs_hidden": false
    },
    "pycharm": {
     "name": "#%%\n"
    }
   },
   "outputs": [],
   "source": [
    "# load MNIST dataset\n",
    "dataset = tfds.load(name='mnist', batch_size=32, as_supervised=True, shuffle_files=False)\n",
    "\n",
    "# split into train and test subsets\n",
    "ds_train, ds_test = dataset['train'], dataset['test']\n",
    "\n",
    "# process data for iteration\n",
    "ds_train = ds_train.shuffle(1000).prefetch(1)"
   ]
  },
  {
   "cell_type": "markdown",
   "source": [
    "**Note**\n",
    "- The `ds_train` or `ds_test` are iterators.\n",
    "- At each iteration, it returns tuple `(image, label)`\n",
    "where `image` and `label` are arrays of length equal to the `batch_size`.\n",
    "- If `batch_size` is not defined, it returns one `image` and `label` at each iteration.\n",
    "- The `fit()` and `predict()` functions can directly take these iterators."
   ],
   "metadata": {
    "collapsed": false,
    "pycharm": {
     "name": "#%% md\n"
    }
   }
  },
  {
   "cell_type": "code",
   "execution_count": 4,
   "outputs": [
    {
     "data": {
      "text/plain": "<Figure size 432x288 with 1 Axes>",
      "image/png": "[encoded data removed]"
     },
     "metadata": {
      "needs_background": "light"
     },
     "output_type": "display_data"
    }
   ],
   "source": [
    "# check one image\n",
    "(image, label), = ds_train.unbatch().take(1)\n",
    "\n",
    "# plot\n",
    "plt.figure()\n",
    "plt.title(f\"Size: {image.shape}\\nLabel: {label}\")\n",
    "plt.axis('off')\n",
    "plt.imshow(image.numpy().squeeze())\n",
    "plt.show()"
   ],
   "metadata": {
    "collapsed": false,
    "pycharm": {
     "name": "#%%\n"
    }
   }
  },
  {
   "cell_type": "markdown",
   "metadata": {
    "pycharm": {
     "name": "#%% md\n"
    }
   },
   "source": [
    "**Normalization**\n",
    "- It allows the NN model to learn all optimal parameters more quickly."
   ]
  },
  {
   "cell_type": "code",
   "execution_count": 5,
   "metadata": {
    "pycharm": {
     "name": "#%%\n"
    }
   },
   "outputs": [],
   "source": [
    "# normalize\n",
    "ds_train = ds_train.map(lambda image, label: (image/255, label))\n",
    "ds_test = ds_test.map(lambda image, label: (image/255, label))"
   ]
  },
  {
   "cell_type": "markdown",
   "metadata": {
    "pycharm": {
     "name": "#%% md\n"
    }
   },
   "source": [
    "## Model\n",
    "\n",
    "**Note**\n",
    "\n",
    "- Use `'softmax'` activation function in the output layer since the problem is multi-class classification.\n",
    "- Use `'sparse_categorical_crossentropy'` loss since labels are of ordinal category.\n",
    "- Alternatively, you can convert labels to one-hot-encoding, then use `'categorical_crossentropy'` loss."
   ]
  },
  {
   "cell_type": "code",
   "execution_count": 6,
   "metadata": {
    "pycharm": {
     "name": "#%%\n"
    }
   },
   "outputs": [
    {
     "name": "stdout",
     "output_type": "stream",
     "text": [
      "Model: \"model\"\n",
      "_________________________________________________________________\n",
      "Layer (type)                 Output Shape              Param #   \n",
      "=================================================================\n",
      "input_1 (InputLayer)         [(None, 28, 28, 1)]       0         \n",
      "_________________________________________________________________\n",
      "conv2d (Conv2D)              (None, 26, 26, 16)        160       \n",
      "_________________________________________________________________\n",
      "max_pooling2d (MaxPooling2D) (None, 13, 13, 16)        0         \n",
      "_________________________________________________________________\n",
      "flatten (Flatten)            (None, 2704)              0         \n",
      "_________________________________________________________________\n",
      "dense (Dense)                (None, 64)                173120    \n",
      "_________________________________________________________________\n",
      "dense_1 (Dense)              (None, 32)                2080      \n",
      "_________________________________________________________________\n",
      "dense_2 (Dense)              (None, 10)                330       \n",
      "=================================================================\n",
      "Total params: 175,690\n",
      "Trainable params: 175,690\n",
      "Non-trainable params: 0\n",
      "_________________________________________________________________\n"
     ]
    }
   ],
   "source": [
    "# input layer\n",
    "input_tensor = Input(shape=[28, 28, 1])\n",
    "\n",
    "# convolution layers\n",
    "x = Conv2D(16, 3, activation='relu')(input_tensor)\n",
    "x = MaxPool2D()(x)\n",
    "\n",
    "# fully-connected layers\n",
    "x = Flatten()(x)\n",
    "x = Dense(64, activation='relu')(x)\n",
    "x = Dense(32, activation='relu')(x)\n",
    "\n",
    "# output layer with 'softmax' activation function\n",
    "output_tensor = Dense(10, activation='softmax')(x)\n",
    "\n",
    "# model\n",
    "model = tf.keras.Model(input_tensor, output_tensor)\n",
    "\n",
    "# compile with 'sparse_categorical_crossentropy' loss\n",
    "model.compile(\n",
    "    optimizer=Adam(),\n",
    "    loss='sparse_categorical_crossentropy',\n",
    "    metrics=['acc']\n",
    ")\n",
    "\n",
    "# model summary\n",
    "model.summary()"
   ]
  },
  {
   "cell_type": "markdown",
   "metadata": {
    "pycharm": {
     "name": "#%% md\n"
    }
   },
   "source": [
    "## Callback\n",
    "\n",
    "- You can use [pre-defined callbacks](https://www.tensorflow.org/api_docs/python/tf/keras/callbacks).\n",
    "- Or, you can define custom callback to have more control over what happens during the training or prediction.\n",
    "[See more](https://www.tensorflow.org/api_docs/python/tf/keras/callbacks/Callback)."
   ]
  },
  {
   "cell_type": "markdown",
   "metadata": {
    "pycharm": {
     "name": "#%% md\n"
    }
   },
   "source": [
    "**Note**:\n",
    "- Use `log.get()` to get desired metric to monitor.\n",
    "- The parameter name in `log.get()` should match the metric defined in `model.compile()`."
   ]
  },
  {
   "cell_type": "code",
   "execution_count": 7,
   "metadata": {
    "pycharm": {
     "name": "#%%\n"
    }
   },
   "outputs": [],
   "source": [
    "class MonitorAccuracy(tf.keras.callbacks.Callback):\n",
    "    \"\"\"\n",
    "    a custom class of callback\n",
    "    to check accuracy after end of each epoch, and\n",
    "    to stop training when a certain level of accuracy is reached\n",
    "    \"\"\"\n",
    "\n",
    "    def __init__(self, stop_accuracy=0.99):\n",
    "        # initiate\n",
    "        super(MonitorAccuracy, self).__init__()\n",
    "        self.stop_accuracy = stop_accuracy\n",
    "\n",
    "    def on_epoch_end(self, epoch, logs=None):\n",
    "        # at the end of the epoch, print loss and accuracy\n",
    "        print(f\"Epoch {epoch+1} - loss: {logs.get('loss'):.4f} - acc: {logs.get('acc'):.4f}\")\n",
    "\n",
    "        # if accuracy is greater than the given 'stop_accuracy':\n",
    "        if logs.get('acc') > self.stop_accuracy:\n",
    "            # print the termination message\n",
    "            print(f\"\\nAccuracy reached to {self.stop_accuracy}. So, cancelling training...\")\n",
    "            # stop training\n",
    "            self.model.stop_training = True\n",
    "\n",
    "\n",
    "monitor_acc = MonitorAccuracy(0.99)"
   ]
  },
  {
   "cell_type": "markdown",
   "metadata": {},
   "source": [
    "## Training"
   ]
  },
  {
   "cell_type": "code",
   "execution_count": 8,
   "metadata": {
    "pycharm": {
     "name": "#%%\n"
    }
   },
   "outputs": [
    {
     "name": "stdout",
     "output_type": "stream",
     "text": [
      "Epoch 1 - loss: 0.2063 - acc: 0.9373\n",
      "Epoch 2 - loss: 0.0699 - acc: 0.9790\n",
      "Epoch 3 - loss: 0.0479 - acc: 0.9851\n",
      "Epoch 4 - loss: 0.0345 - acc: 0.9887\n",
      "Epoch 5 - loss: 0.0253 - acc: 0.9919\n",
      "\n",
      "Accuracy reached to 0.99. So, cancelling training...\n"
     ]
    }
   ],
   "source": [
    "# train the model and save the history\n",
    "hist = model.fit(\n",
    "    ds_train,\n",
    "    epochs=10,\n",
    "    verbose=0,\n",
    "    callbacks=[monitor_acc]\n",
    ")"
   ]
  },
  {
   "cell_type": "code",
   "execution_count": 9,
   "metadata": {
    "pycharm": {
     "name": "#%%\n"
    }
   },
   "outputs": [
    {
     "data": {
      "text/plain": "<Figure size 432x288 with 2 Axes>",
      "image/png": "[encoded data removed]"
     },
     "metadata": {
      "needs_background": "light"
     },
     "output_type": "display_data"
    }
   ],
   "source": [
    "# plot the loss and accuracy\n",
    "fig = plt.figure()\n",
    "ax1 = fig.gca()\n",
    "\n",
    "ax2 = ax1.twinx()\n",
    "ax1.plot(hist.history['acc'], label='Accuracy', color='r')\n",
    "ax2.plot(hist.history['loss'], label='Loss', color='b')\n",
    "\n",
    "ax1.set_xlabel('Epoch')\n",
    "ax1.set_ylabel('Accuracy', color='r')\n",
    "ax2.set_ylabel('Loss', color='b')\n",
    "\n",
    "plt.show()"
   ]
  },
  {
   "cell_type": "markdown",
   "metadata": {},
   "source": [
    "## Evauation"
   ]
  },
  {
   "cell_type": "code",
   "execution_count": 10,
   "metadata": {
    "pycharm": {
     "name": "#%%\n"
    }
   },
   "outputs": [],
   "source": [
    "# test\n",
    "y_pred = model.predict(ds_test)\n",
    "y_pred = np.argmax(y_pred, axis=1)"
   ]
  },
  {
   "cell_type": "markdown",
   "metadata": {
    "pycharm": {
     "name": "#%% md\n"
    }
   },
   "source": [
    "**Confusion matrix**"
   ]
  },
  {
   "cell_type": "code",
   "execution_count": 11,
   "metadata": {
    "pycharm": {
     "name": "#%%\n"
    }
   },
   "outputs": [],
   "source": [
    "# get all labels\n",
    "(_, y_test), = ds_test.unbatch().batch(10000).take(1)\n",
    "y_test = y_test.numpy()\n",
    "\n",
    "# confusion matrix\n",
    "conf_mat = confusion_matrix(y_test, y_pred, normalize='true')"
   ]
  },
  {
   "cell_type": "code",
   "execution_count": 12,
   "outputs": [
    {
     "data": {
      "text/plain": "<Figure size 432x432 with 1 Axes>",
      "image/png": "[encoded data removed]"
     },
     "metadata": {
      "needs_background": "light"
     },
     "output_type": "display_data"
    }
   ],
   "source": [
    "# figure for displaying the confusion matrix\n",
    "fig = plt.figure(figsize=(6, 6))\n",
    "ax = fig.gca()\n",
    "\n",
    "# display the confution matrix\n",
    "cax = ax.matshow(conf_mat, cmap='Blues')\n",
    "\n",
    "# show the values\n",
    "for (i, j), z in np.ndenumerate(conf_mat):\n",
    "    text_color = 'w' if i == j else 'k'\n",
    "    if z < 0.005:\n",
    "        continue\n",
    "    ax.text(j, i, '{:0.2f}'.format(z), ha='center', va='center', c=text_color)\n",
    "\n",
    "# title and axis labels\n",
    "plt.title('Confusion matrix')\n",
    "plt.xlabel('Predicted')\n",
    "plt.ylabel('True')\n",
    "\n",
    "# show class names\n",
    "labels = list(range(10))\n",
    "plt.xticks(labels, labels)\n",
    "plt.yticks(labels, labels)\n",
    "ax.tick_params(axis='both', which='both', length=0)\n",
    "\n",
    "# show grid lines\n",
    "ax.set_xticks(np.arange(-.5, 10, 1), minor=True)\n",
    "ax.set_yticks(np.arange(-.5, 10, 1), minor=True)\n",
    "ax.grid(which='minor', color='k', linestyle='-', linewidth=1)\n",
    "\n",
    "plt.show()"
   ],
   "metadata": {
    "collapsed": false,
    "pycharm": {
     "name": "#%%\n"
    }
   }
  },
  {
   "cell_type": "markdown",
   "source": [
    "**Other metrics**"
   ],
   "metadata": {
    "collapsed": false,
    "pycharm": {
     "name": "#%% md\n"
    }
   }
  },
  {
   "cell_type": "code",
   "execution_count": 13,
   "outputs": [],
   "source": [
    "# calculate precision, recall, and f1 score\n",
    "precision = precision_score(y_test, y_pred, average=None)\n",
    "recall = recall_score(y_test, y_pred, average=None)\n",
    "f1 = f1_score(y_test, y_pred, average=None)"
   ],
   "metadata": {
    "collapsed": false,
    "pycharm": {
     "name": "#%%\n"
    }
   }
  },
  {
   "cell_type": "code",
   "execution_count": 14,
   "outputs": [
    {
     "data": {
      "text/plain": "                  0         1         2         3         4         5  \\\nPrecision  0.987830  0.992970  0.976099  0.976631  0.961652  0.993135   \nRecall     0.993878  0.995595  0.989341  0.993069  0.995927  0.973094   \nF1-score   0.990844  0.994281  0.982676  0.984782  0.978489  0.983012   \n\n                  6         7         8         9      Mean  \nPrecision  0.981366  0.979691  0.990516  0.991693  0.983158  \nRecall     0.989562  0.985409  0.965092  0.946482  0.982745  \nF1-score   0.985447  0.982541  0.977639  0.968560  0.982827  ",
      "text/html": "<div>\n<style scoped>\n    .dataframe tbody tr th:only-of-type {\n        vertical-align: middle;\n    }\n\n    .dataframe tbody tr th {\n        vertical-align: top;\n    }\n\n    .dataframe thead th {\n        text-align: right;\n    }\n</style>\n<table border=\"1\" class=\"dataframe\">\n  <thead>\n    <tr style=\"text-align: right;\">\n      <th></th>\n      <th>0</th>\n      <th>1</th>\n      <th>2</th>\n      <th>3</th>\n      <th>4</th>\n      <th>5</th>\n      <th>6</th>\n      <th>7</th>\n      <th>8</th>\n      <th>9</th>\n      <th>Mean</th>\n    </tr>\n  </thead>\n  <tbody>\n    <tr>\n      <th>Precision</th>\n      <td>0.987830</td>\n      <td>0.992970</td>\n      <td>0.976099</td>\n      <td>0.976631</td>\n      <td>0.961652</td>\n      <td>0.993135</td>\n      <td>0.981366</td>\n      <td>0.979691</td>\n      <td>0.990516</td>\n      <td>0.991693</td>\n      <td>0.983158</td>\n    </tr>\n    <tr>\n      <th>Recall</th>\n      <td>0.993878</td>\n      <td>0.995595</td>\n      <td>0.989341</td>\n      <td>0.993069</td>\n      <td>0.995927</td>\n      <td>0.973094</td>\n      <td>0.989562</td>\n      <td>0.985409</td>\n      <td>0.965092</td>\n      <td>0.946482</td>\n      <td>0.982745</td>\n    </tr>\n    <tr>\n      <th>F1-score</th>\n      <td>0.990844</td>\n      <td>0.994281</td>\n      <td>0.982676</td>\n      <td>0.984782</td>\n      <td>0.978489</td>\n      <td>0.983012</td>\n      <td>0.985447</td>\n      <td>0.982541</td>\n      <td>0.977639</td>\n      <td>0.968560</td>\n      <td>0.982827</td>\n    </tr>\n  </tbody>\n</table>\n</div>"
     },
     "execution_count": 14,
     "metadata": {},
     "output_type": "execute_result"
    }
   ],
   "source": [
    "# pandas data frame for storing the metrics\n",
    "df = pd.DataFrame({\n",
    "        'Precision': precision,\n",
    "        'Recall': recall,\n",
    "        'F1-score': f1\n",
    "})\n",
    "\n",
    "# calculate the mean\n",
    "df.loc['Mean'] = df.mean()\n",
    "\n",
    "# display\n",
    "df.T"
   ],
   "metadata": {
    "collapsed": false,
    "pycharm": {
     "name": "#%%\n"
    }
   }
  }
 ],
 "metadata": {
  "kernelspec": {
   "display_name": "Python 3",
   "language": "python",
   "name": "python3"
  },
  "language_info": {
   "codemirror_mode": {
    "name": "ipython",
    "version": 3
   },
   "file_extension": ".py",
   "mimetype": "text/x-python",
   "name": "python",
   "nbconvert_exporter": "python",
   "pygments_lexer": "ipython3",
   "version": "3.7.7"
  }
 },
 "nbformat": 4,
 "nbformat_minor": 4
}