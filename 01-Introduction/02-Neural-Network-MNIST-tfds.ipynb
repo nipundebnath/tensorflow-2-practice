{
 "cells": [
  {
   "cell_type": "markdown",
   "metadata": {
    "pycharm": {
     "name": "#%% md\n"
    }
   },
   "source": [
    "# **NEURAL NETWORK**\n",
    "\n",
    "## Problem\n",
    "\n",
    "Write an MNIST classifier that trains to 99% accuracy or above.\n",
    "You should stop training once you reach that level of accuracy.\n",
    "\n",
    "Hint: It should succeed in less than 10 epochs."
   ]
  },
  {
   "cell_type": "markdown",
   "metadata": {
    "pycharm": {
     "name": "#%% md\n"
    }
   },
   "source": [
    "## Initialize"
   ]
  },
  {
   "cell_type": "code",
   "execution_count": 1,
   "metadata": {
    "jupyter": {
     "outputs_hidden": false
    },
    "pycharm": {
     "name": "#%%\n"
    }
   },
   "outputs": [],
   "source": [
    "import numpy as np\n",
    "import pandas as pd\n",
    "import tensorflow as tf\n",
    "import tensorflow_datasets as tfds\n",
    "\n",
    "from tensorflow.keras.layers import Input, Dense, Flatten\n",
    "from tensorflow.keras.optimizers import Adam\n",
    "\n",
    "from sklearn.metrics import confusion_matrix, precision_score, recall_score, f1_score\n",
    "from matplotlib import pyplot as plt"
   ]
  },
  {
   "cell_type": "code",
   "execution_count": 2,
   "metadata": {
    "pycharm": {
     "name": "#%%\n"
    }
   },
   "outputs": [],
   "source": [
    "# set random seeds\n",
    "np.random.seed(0)\n",
    "tf.random.set_seed(0)\n",
    "\n",
    "# show figures inline\n",
    "%matplotlib inline"
   ]
  },
  {
   "cell_type": "markdown",
   "metadata": {
    "pycharm": {
     "name": "#%% md\n"
    }
   },
   "source": [
    "## Dataset\n",
    "\n",
    "Load the MNIST dataset using `tf.tensorflow_datasets` or `tfds`.\n"
   ]
  },
  {
   "cell_type": "code",
   "execution_count": 3,
   "metadata": {
    "jupyter": {
     "outputs_hidden": false
    },
    "pycharm": {
     "name": "#%%\n"
    }
   },
   "outputs": [],
   "source": [
    "# load MNIST dataset\n",
    "dataset = tfds.load(name='mnist', batch_size=32, as_supervised=True, shuffle_files=False)\n",
    "\n",
    "# split into train and test subsets\n",
    "ds_train, ds_test = dataset['train'], dataset['test']\n",
    "\n",
    "# process data for iteration\n",
    "ds_train = ds_train.shuffle(1000).prefetch(1)"
   ]
  },
  {
   "cell_type": "markdown",
   "source": [
    "**Note**\n",
    "- The `ds_train` or `ds_test` are iterators.\n",
    "- At each iteration, it returns tuple `(image, label)`\n",
    "where `image` and `label` are arrays of length equal to the `batch_size`.\n",
    "- If `batch_size` is not defined, it returns one `image` and `label` at each iteration.\n",
    "- The `fit()` and `predict()` functions can directly take these iterators."
   ],
   "metadata": {
    "collapsed": false,
    "pycharm": {
     "name": "#%% md\n"
    }
   }
  },
  {
   "cell_type": "code",
   "execution_count": 4,
   "outputs": [
    {
     "data": {
      "text/plain": "<Figure size 432x288 with 1 Axes>",
      "image/png": "[encoded data removed]"
     },
     "metadata": {
      "needs_background": "light"
     },
     "output_type": "display_data"
    }
   ],
   "source": [
    "# check one image\n",
    "(image, label), = ds_train.unbatch().take(1)\n",
    "\n",
    "# plot\n",
    "plt.figure()\n",
    "plt.title(f\"Size: {image.shape}\\nLabel: {label}\")\n",
    "plt.axis('off')\n",
    "plt.imshow(image.numpy().squeeze())\n",
    "plt.show()"
   ],
   "metadata": {
    "collapsed": false,
    "pycharm": {
     "name": "#%%\n"
    }
   }
  },
  {
   "cell_type": "markdown",
   "metadata": {
    "pycharm": {
     "name": "#%% md\n"
    }
   },
   "source": [
    "**Normalization**\n",
    "- It allows the NN model to learn all optimal parameters more quickly."
   ]
  },
  {
   "cell_type": "code",
   "execution_count": 5,
   "metadata": {
    "pycharm": {
     "name": "#%%\n"
    }
   },
   "outputs": [],
   "source": [
    "# normalize\n",
    "ds_train = ds_train.map(lambda image, label: (image/255, label))\n",
    "ds_test = ds_test.map(lambda image, label: (image/255, label))"
   ]
  },
  {
   "cell_type": "markdown",
   "metadata": {
    "pycharm": {
     "name": "#%% md\n"
    }
   },
   "source": [
    "## Model\n",
    "\n",
    "**Note**\n",
    "\n",
    "- Use `'softmax'` activation function in the output layer since the problem is multi-class classification.\n",
    "- Use `'sparse_categorical_crossentropy'` loss since labels are of ordinal category.\n",
    "- Alternatively, you can convert labels to one-hot-encoding, then use `'categorical_crossentropy'` loss."
   ]
  },
  {
   "cell_type": "code",
   "execution_count": 6,
   "metadata": {
    "pycharm": {
     "name": "#%%\n"
    }
   },
   "outputs": [
    {
     "name": "stdout",
     "output_type": "stream",
     "text": [
      "Model: \"model\"\n",
      "_________________________________________________________________\n",
      "Layer (type)                 Output Shape              Param #   \n",
      "=================================================================\n",
      "input_1 (InputLayer)         [(None, 28, 28, 1)]       0         \n",
      "_________________________________________________________________\n",
      "flatten (Flatten)            (None, 784)               0         \n",
      "_________________________________________________________________\n",
      "dense (Dense)                (None, 256)               200960    \n",
      "_________________________________________________________________\n",
      "dense_1 (Dense)              (None, 128)               32896     \n",
      "_________________________________________________________________\n",
      "dense_2 (Dense)              (None, 10)                1290      \n",
      "=================================================================\n",
      "Total params: 235,146\n",
      "Trainable params: 235,146\n",
      "Non-trainable params: 0\n",
      "_________________________________________________________________\n"
     ]
    }
   ],
   "source": [
    "# input layer\n",
    "input_tensor = Input(shape=[28, 28, 1])\n",
    "\n",
    "# hidden layers\n",
    "x = Flatten()(input_tensor)\n",
    "x = Dense(256, activation='relu')(x)\n",
    "x = Dense(128, activation='relu')(x)\n",
    "\n",
    "# output layer with 'softmax' activation function\n",
    "output_tensor = Dense(10, activation='softmax')(x)\n",
    "\n",
    "# model\n",
    "model = tf.keras.Model(input_tensor, output_tensor)\n",
    "\n",
    "# compile with 'sparse_categorical_crossentropy' loss\n",
    "model.compile(\n",
    "    optimizer=Adam(),\n",
    "    loss='sparse_categorical_crossentropy',\n",
    "    metrics=['acc']\n",
    ")\n",
    "\n",
    "# model summary\n",
    "model.summary()"
   ]
  },
  {
   "cell_type": "markdown",
   "metadata": {
    "pycharm": {
     "name": "#%% md\n"
    }
   },
   "source": [
    "## Callback\n",
    "\n",
    "- You can use [pre-defined callbacks](https://www.tensorflow.org/api_docs/python/tf/keras/callbacks).\n",
    "- Or, you can define custom callback to have more control over what happens during the training or prediction.\n",
    "[See more](https://www.tensorflow.org/api_docs/python/tf/keras/callbacks/Callback)."
   ]
  },
  {
   "cell_type": "markdown",
   "metadata": {
    "pycharm": {
     "name": "#%% md\n"
    }
   },
   "source": [
    "**Note**:\n",
    "- Use `log.get()` to get desired metric to monitor.\n",
    "- The parameter name in `log.get()` should match the metric defined in `model.compile()`."
   ]
  },
  {
   "cell_type": "code",
   "execution_count": 7,
   "metadata": {
    "pycharm": {
     "name": "#%%\n"
    }
   },
   "outputs": [],
   "source": [
    "class MonitorAccuracy(tf.keras.callbacks.Callback):\n",
    "    \"\"\"\n",
    "    a custom class of callback\n",
    "    to check accuracy after end of each epoch, and\n",
    "    to stop training when a certain level of accuracy is reached\n",
    "    \"\"\"\n",
    "\n",
    "    def __init__(self, stop_accuracy=0.99):\n",
    "        # initiate\n",
    "        super(MonitorAccuracy, self).__init__()\n",
    "        self.stop_accuracy = stop_accuracy\n",
    "\n",
    "    def on_epoch_end(self, epoch, logs=None):\n",
    "        # at the end of the epoch, print loss and accuracy\n",
    "        print(f\"Epoch {epoch+1} - loss: {logs.get('loss'):.4f} - acc: {logs.get('acc'):.4f}\")\n",
    "\n",
    "        # if accuracy is greater than the given 'stop_accuracy':\n",
    "        if logs.get('acc') > self.stop_accuracy:\n",
    "            # print the termination message\n",
    "            print(f\"\\nAccuracy reached to {self.stop_accuracy}. So, cancelling training...\")\n",
    "            # stop training\n",
    "            self.model.stop_training = True\n",
    "\n",
    "\n",
    "monitor_acc = MonitorAccuracy(0.99)"
   ]
  },
  {
   "cell_type": "markdown",
   "metadata": {},
   "source": [
    "## Training"
   ]
  },
  {
   "cell_type": "code",
   "execution_count": 8,
   "metadata": {
    "pycharm": {
     "name": "#%%\n"
    }
   },
   "outputs": [
    {
     "name": "stdout",
     "output_type": "stream",
     "text": [
      "Epoch 1 - loss: 0.2089 - acc: 0.9385\n",
      "Epoch 2 - loss: 0.0851 - acc: 0.9735\n",
      "Epoch 3 - loss: 0.0595 - acc: 0.9812\n",
      "Epoch 4 - loss: 0.0443 - acc: 0.9857\n",
      "Epoch 5 - loss: 0.0354 - acc: 0.9883\n",
      "Epoch 6 - loss: 0.0266 - acc: 0.9913\n",
      "\n",
      "Accuracy reached to 0.99. So, cancelling training...\n"
     ]
    }
   ],
   "source": [
    "# train the model and save the history\n",
    "hist = model.fit(\n",
    "    ds_train,\n",
    "    epochs=10,\n",
    "    verbose=0,\n",
    "    callbacks=[monitor_acc]\n",
    ")"
   ]
  },
  {
   "cell_type": "code",
   "execution_count": 9,
   "metadata": {
    "pycharm": {
     "name": "#%%\n"
    }
   },
   "outputs": [
    {
     "data": {
      "text/plain": "<Figure size 432x288 with 2 Axes>",
      "image/png": "[encoded data removed]"
     },
     "metadata": {
      "needs_background": "light"
     },
     "output_type": "display_data"
    }
   ],
   "source": [
    "# plot the loss and accuracy\n",
    "fig = plt.figure()\n",
    "ax1 = fig.gca()\n",
    "\n",
    "ax2 = ax1.twinx()\n",
    "ax1.plot(hist.history['acc'], label='Accuracy', color='r')\n",
    "ax2.plot(hist.history['loss'], label='Loss', color='b')\n",
    "\n",
    "ax1.set_xlabel('Epoch')\n",
    "ax1.set_ylabel('Accuracy', color='r')\n",
    "ax2.set_ylabel('Loss', color='b')\n",
    "\n",
    "plt.show()"
   ]
  },
  {
   "cell_type": "markdown",
   "metadata": {},
   "source": [
    "## Evauation"
   ]
  },
  {
   "cell_type": "code",
   "execution_count": 10,
   "metadata": {
    "pycharm": {
     "name": "#%%\n"
    }
   },
   "outputs": [],
   "source": [
    "# test\n",
    "y_pred = model.predict(ds_test)\n",
    "y_pred = np.argmax(y_pred, axis=1)"
   ]
  },
  {
   "cell_type": "markdown",
   "metadata": {
    "pycharm": {
     "name": "#%% md\n"
    }
   },
   "source": [
    "**Confusion matrix**"
   ]
  },
  {
   "cell_type": "code",
   "execution_count": 11,
   "metadata": {
    "pycharm": {
     "name": "#%%\n"
    }
   },
   "outputs": [],
   "source": [
    "# get all labels\n",
    "# TODO: find more efficient way to get all labels\n",
    "y_test = []\n",
    "for x, y in ds_test:\n",
    "    y_test += list(y)\n",
    "\n",
    "# confusion matrix\n",
    "conf_mat = confusion_matrix(y_test, y_pred, normalize='true')"
   ]
  },
  {
   "cell_type": "code",
   "execution_count": 12,
   "outputs": [
    {
     "data": {
      "text/plain": "<Figure size 432x432 with 1 Axes>",
      "image/png": "[encoded data removed]"
     },
     "metadata": {
      "needs_background": "light"
     },
     "output_type": "display_data"
    }
   ],
   "source": [
    "# figure for displaying the confusion matrix\n",
    "fig = plt.figure(figsize=(6, 6))\n",
    "ax = fig.gca()\n",
    "\n",
    "# display the confution matrix\n",
    "cax = ax.matshow(conf_mat, cmap='Blues')\n",
    "\n",
    "# show the values\n",
    "for (i, j), z in np.ndenumerate(conf_mat):\n",
    "    text_color = 'w' if i == j else 'k'\n",
    "    if z < 0.005:\n",
    "        continue\n",
    "    ax.text(j, i, '{:0.2f}'.format(z), ha='center', va='center', c=text_color)\n",
    "\n",
    "# title and axis labels\n",
    "plt.title('Confusion matrix')\n",
    "plt.xlabel('Predicted')\n",
    "plt.ylabel('True')\n",
    "\n",
    "# show class names\n",
    "labels = list(range(10))\n",
    "plt.xticks(labels, labels)\n",
    "plt.yticks(labels, labels)\n",
    "ax.tick_params(axis='both', which='both', length=0)\n",
    "\n",
    "# show grid lines\n",
    "ax.set_xticks(np.arange(-.5, 10, 1), minor=True)\n",
    "ax.set_yticks(np.arange(-.5, 10, 1), minor=True)\n",
    "ax.grid(which='minor', color='k', linestyle='-', linewidth=1)\n",
    "\n",
    "plt.show()"
   ],
   "metadata": {
    "collapsed": false,
    "pycharm": {
     "name": "#%%\n"
    }
   }
  },
  {
   "cell_type": "markdown",
   "source": [
    "**Other metrics**"
   ],
   "metadata": {
    "collapsed": false,
    "pycharm": {
     "name": "#%% md\n"
    }
   }
  },
  {
   "cell_type": "code",
   "execution_count": 13,
   "outputs": [],
   "source": [
    "# calculate precision, recall, and f1 score\n",
    "precision = precision_score(y_test, y_pred, average=None)\n",
    "recall = recall_score(y_test, y_pred, average=None)\n",
    "f1 = f1_score(y_test, y_pred, average=None)"
   ],
   "metadata": {
    "collapsed": false,
    "pycharm": {
     "name": "#%%\n"
    }
   }
  },
  {
   "cell_type": "code",
   "execution_count": 14,
   "outputs": [
    {
     "data": {
      "text/plain": "                  0         1         2         3         4         5  \\\nPrecision  0.982811  0.991166  0.986261  0.984772  0.960357  0.968785   \nRecall     0.991837  0.988546  0.973837  0.960396  0.986762  0.974215   \nF1-score   0.987303  0.989854  0.980010  0.972431  0.973380  0.971492   \n\n                  6         7         8         9      Mean  \nPrecision  0.975130  0.980373  0.957533  0.973896  0.976108  \nRecall     0.982255  0.971790  0.972279  0.961348  0.976326  \nF1-score   0.978679  0.976063  0.964850  0.967581  0.976164  ",
      "text/html": "<div>\n<style scoped>\n    .dataframe tbody tr th:only-of-type {\n        vertical-align: middle;\n    }\n\n    .dataframe tbody tr th {\n        vertical-align: top;\n    }\n\n    .dataframe thead th {\n        text-align: right;\n    }\n</style>\n<table border=\"1\" class=\"dataframe\">\n  <thead>\n    <tr style=\"text-align: right;\">\n      <th></th>\n      <th>0</th>\n      <th>1</th>\n      <th>2</th>\n      <th>3</th>\n      <th>4</th>\n      <th>5</th>\n      <th>6</th>\n      <th>7</th>\n      <th>8</th>\n      <th>9</th>\n      <th>Mean</th>\n    </tr>\n  </thead>\n  <tbody>\n    <tr>\n      <th>Precision</th>\n      <td>0.982811</td>\n      <td>0.991166</td>\n      <td>0.986261</td>\n      <td>0.984772</td>\n      <td>0.960357</td>\n      <td>0.968785</td>\n      <td>0.975130</td>\n      <td>0.980373</td>\n      <td>0.957533</td>\n      <td>0.973896</td>\n      <td>0.976108</td>\n    </tr>\n    <tr>\n      <th>Recall</th>\n      <td>0.991837</td>\n      <td>0.988546</td>\n      <td>0.973837</td>\n      <td>0.960396</td>\n      <td>0.986762</td>\n      <td>0.974215</td>\n      <td>0.982255</td>\n      <td>0.971790</td>\n      <td>0.972279</td>\n      <td>0.961348</td>\n      <td>0.976326</td>\n    </tr>\n    <tr>\n      <th>F1-score</th>\n      <td>0.987303</td>\n      <td>0.989854</td>\n      <td>0.980010</td>\n      <td>0.972431</td>\n      <td>0.973380</td>\n      <td>0.971492</td>\n      <td>0.978679</td>\n      <td>0.976063</td>\n      <td>0.964850</td>\n      <td>0.967581</td>\n      <td>0.976164</td>\n    </tr>\n  </tbody>\n</table>\n</div>"
     },
     "execution_count": 14,
     "metadata": {},
     "output_type": "execute_result"
    }
   ],
   "source": [
    "# pandas data frame for storing the metrics\n",
    "df = pd.DataFrame({\n",
    "        'Precision': precision,\n",
    "        'Recall': recall,\n",
    "        'F1-score': f1\n",
    "})\n",
    "\n",
    "# calculate the mean\n",
    "df.loc['Mean'] = df.mean()\n",
    "\n",
    "# display\n",
    "df.T"
   ],
   "metadata": {
    "collapsed": false,
    "pycharm": {
     "name": "#%%\n"
    }
   }
  }
 ],
 "metadata": {
  "kernelspec": {
   "display_name": "Python 3",
   "language": "python",
   "name": "python3"
  },
  "language_info": {
   "codemirror_mode": {
    "name": "ipython",
    "version": 3
   },
   "file_extension": ".py",
   "mimetype": "text/x-python",
   "name": "python",
   "nbconvert_exporter": "python",
   "pygments_lexer": "ipython3",
   "version": "3.7.7"
  }
 },
 "nbformat": 4,
 "nbformat_minor": 4
}