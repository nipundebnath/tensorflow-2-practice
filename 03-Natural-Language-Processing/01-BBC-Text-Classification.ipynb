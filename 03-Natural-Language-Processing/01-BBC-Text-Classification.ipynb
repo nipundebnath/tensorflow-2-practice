{
 "cells": [
  {
   "cell_type": "markdown",
   "metadata": {},
   "source": [
    "# **BBC-TEXT CLASSIFICATION**\n",
    "\n",
    "## Problem\n",
    "Classify the [BBC text]() (cleaned).\n",
    "\n",
    "## Initialize"
   ]
  },
  {
   "cell_type": "code",
   "execution_count": 1,
   "metadata": {},
   "outputs": [],
   "source": [
    "import os\n",
    "import io\n",
    "import warnings\n",
    "\n",
    "import numpy as np\n",
    "import pandas as pd\n",
    "import tensorflow as tf\n",
    "import tensorflow_datasets as tfds\n",
    "import matplotlib.pyplot as plt\n",
    "\n",
    "from tensorflow.keras.preprocessing.text import Tokenizer\n",
    "from tensorflow.keras.preprocessing.sequence import pad_sequences\n",
    "from tensorflow.keras.layers import Input, Embedding, Flatten, Dense, GlobalAveragePooling1D, Bidirectional, LSTM, Conv1D, MaxPooling1D, Dropout\n",
    "from tensorflow.keras.optimizers import Adam\n",
    "from tensorflow.keras.callbacks import ReduceLROnPlateau, EarlyStopping, TensorBoard"
   ]
  },
  {
   "cell_type": "code",
   "execution_count": 2,
   "metadata": {},
   "outputs": [],
   "source": [
    "# set random seeds\n",
    "np.random.seed(0)\n",
    "tf.random.set_seed(0)\n",
    "\n",
    "# show figures inline\n",
    "%matplotlib inline\n",
    "\n",
    "# ignore all warning (NOT recommended)\n",
    "warnings.filterwarnings(\"ignore\")"
   ]
  },
  {
   "cell_type": "markdown",
   "metadata": {},
   "source": [
    "**Global inputs**"
   ]
  },
  {
   "cell_type": "code",
   "execution_count": 3,
   "metadata": {},
   "outputs": [],
   "source": [
    "EMBED_DIMS = 100\n",
    "MAX_LENGTH = 120\n",
    "TRUNC_TYPE = 'post'\n",
    "PAD_TYPE = 'post'\n",
    "\n",
    "TRAIN_SPLIT = 0.8\n",
    "\n",
    "LOG_DIR = '01-logs'\n",
    "PROBLEM = 'bbc'"
   ]
  },
  {
   "cell_type": "markdown",
   "metadata": {},
   "source": [
    "## Dataset\n",
    "**Get the dataset**"
   ]
  },
  {
   "cell_type": "code",
   "execution_count": 4,
   "metadata": {},
   "outputs": [
    {
     "data": {
      "text/html": [
       "<div>\n",
       "<style scoped>\n",
       "    .dataframe tbody tr th:only-of-type {\n",
       "        vertical-align: middle;\n",
       "    }\n",
       "\n",
       "    .dataframe tbody tr th {\n",
       "        vertical-align: top;\n",
       "    }\n",
       "\n",
       "    .dataframe thead th {\n",
       "        text-align: right;\n",
       "    }\n",
       "</style>\n",
       "<table border=\"1\" class=\"dataframe\">\n",
       "  <thead>\n",
       "    <tr style=\"text-align: right;\">\n",
       "      <th></th>\n",
       "      <th>category</th>\n",
       "      <th>text</th>\n",
       "    </tr>\n",
       "  </thead>\n",
       "  <tbody>\n",
       "    <tr>\n",
       "      <th>0</th>\n",
       "      <td>tech</td>\n",
       "      <td>tv future in the hands of viewers with home th...</td>\n",
       "    </tr>\n",
       "    <tr>\n",
       "      <th>1</th>\n",
       "      <td>business</td>\n",
       "      <td>worldcom boss  left books alone  former worldc...</td>\n",
       "    </tr>\n",
       "    <tr>\n",
       "      <th>2</th>\n",
       "      <td>sport</td>\n",
       "      <td>tigers wary of farrell  gamble  leicester say ...</td>\n",
       "    </tr>\n",
       "    <tr>\n",
       "      <th>3</th>\n",
       "      <td>sport</td>\n",
       "      <td>yeading face newcastle in fa cup premiership s...</td>\n",
       "    </tr>\n",
       "    <tr>\n",
       "      <th>4</th>\n",
       "      <td>entertainment</td>\n",
       "      <td>ocean s twelve raids box office ocean s twelve...</td>\n",
       "    </tr>\n",
       "  </tbody>\n",
       "</table>\n",
       "</div>"
      ],
      "text/plain": [
       "        category                                               text\n",
       "0           tech  tv future in the hands of viewers with home th...\n",
       "1       business  worldcom boss  left books alone  former worldc...\n",
       "2          sport  tigers wary of farrell  gamble  leicester say ...\n",
       "3          sport  yeading face newcastle in fa cup premiership s...\n",
       "4  entertainment  ocean s twelve raids box office ocean s twelve..."
      ]
     },
     "execution_count": 4,
     "metadata": {},
     "output_type": "execute_result"
    }
   ],
   "source": [
    "data_url = 'https://storage.googleapis.com/laurencemoroney-blog.appspot.com/bbc-text.csv'\n",
    "path_out = '../.tmp/bbc-text.csv'\n",
    "\n",
    "# download the dataset\n",
    "if not os.path.exists(path_out):\n",
    "    os.system(f\"\"\"wget --no-check-certificate {data_url} -O {path_out}\"\"\")\n",
    "\n",
    "# read the csv file\n",
    "df = pd.read_csv(path_out)\n",
    "\n",
    "df.head()"
   ]
  },
  {
   "cell_type": "markdown",
   "metadata": {
    "pycharm": {
     "name": "#%% md\n"
    }
   },
   "source": [
    "**Data preparation**"
   ]
  },
  {
   "cell_type": "code",
   "execution_count": 5,
   "metadata": {
    "pycharm": {
     "name": "#%%\n"
    }
   },
   "outputs": [
    {
     "name": "stdout",
     "output_type": "stream",
     "text": [
      "shape - sentences: (2225,), (2225,)\n",
      "unique labels - {'sport', 'politics', 'tech', 'entertainment', 'business'}, total: 5\n"
     ]
    }
   ],
   "source": [
    "# extract the columns\n",
    "sentences = df['text'].to_numpy()\n",
    "labels = df['category'].to_numpy()\n",
    "\n",
    "# number of unique labels\n",
    "class_names = set(labels)\n",
    "\n",
    "# examine the dataset\n",
    "print(f'shape - sentences: {sentences.shape}, {labels.shape}')\n",
    "print(f'unique labels - {class_names}, total: {len(class_names)}')"
   ]
  },
  {
   "cell_type": "markdown",
   "metadata": {
    "pycharm": {
     "name": "#%% md\n"
    }
   },
   "source": [
    "**Data cleaning**\n",
    "- Remove the stop words from the sentences."
   ]
  },
  {
   "cell_type": "code",
   "execution_count": 6,
   "metadata": {
    "pycharm": {
     "name": "#%%\n"
    }
   },
   "outputs": [
    {
     "data": {
      "text/plain": [
       "0    tv future hands viewers home theatre systems  ...\n",
       "1    worldcom boss  left books alone  former worldc...\n",
       "2    tigers wary farrell  gamble  leicester say wil...\n",
       "3    yeading face newcastle fa cup premiership side...\n",
       "4    ocean twelve raids box office ocean twelve  cr...\n",
       "Name: text, dtype: object"
      ]
     },
     "execution_count": 6,
     "metadata": {},
     "output_type": "execute_result"
    }
   ],
   "source": [
    "# list of stopwords\n",
    "stopwords = [ \"a\", \"about\", \"above\", \"after\", \"again\", \"against\", \"all\", \"am\", \"an\", \"and\", \"any\", \"are\", \"as\", \"at\", \"be\", \"because\", \"been\", \"before\", \"being\", \"below\", \"between\", \"both\", \"but\", \"by\", \"could\", \"did\", \"do\", \"does\", \"doing\", \"down\", \"during\", \"each\", \"few\", \"for\", \"from\", \"further\", \"had\", \"has\", \"have\", \"having\", \"he\", \"he'd\", \"he'll\", \"he's\", \"her\", \"here\", \"here's\", \"hers\", \"herself\", \"him\", \"himself\", \"his\", \"how\", \"how's\", \"i\", \"i'd\", \"i'll\", \"i'm\", \"i've\", \"if\", \"in\", \"into\", \"is\", \"it\", \"it's\", \"its\", \"itself\", \"let's\", \"me\", \"more\", \"most\", \"my\", \"myself\", \"nor\", \"of\", \"on\", \"once\", \"only\", \"or\", \"other\", \"ought\", \"our\", \"ours\", \"ourselves\", \"out\", \"over\", \"own\", \"s\", \"same\", \"she\", \"she'd\", \"she'll\", \"she's\", \"should\", \"so\", \"some\", \"such\", \"than\", \"that\", \"that's\", \"the\", \"their\", \"theirs\", \"them\", \"themselves\", \"then\", \"there\", \"there's\", \"these\", \"they\", \"they'd\", \"they'll\", \"they're\", \"they've\", \"this\", \"those\", \"through\", \"to\", \"too\", \"under\", \"until\", \"up\", \"very\", \"was\", \"we\", \"we'd\", \"we'll\", \"we're\", \"we've\", \"were\", \"what\", \"what's\", \"when\", \"when's\", \"where\", \"where's\", \"which\", \"while\", \"who\", \"who's\", \"whom\", \"why\", \"why's\", \"with\", \"would\", \"you\", \"you'd\", \"you'll\", \"you're\", \"you've\", \"your\", \"yours\", \"yourself\", \"yourselves\" ]\n",
    "\n",
    "# convert to a dictionary\n",
    "dict_to_replace = {f' {word} ': ' ' for word in stopwords}\n",
    "\n",
    "# replace the stopwords\n",
    "df['text'] = df['text'].replace(dict_to_replace, regex=True)\n",
    "\n",
    "# check\n",
    "df['text'].head()"
   ]
  },
  {
   "cell_type": "markdown",
   "metadata": {
    "pycharm": {
     "name": "#%% md\n"
    }
   },
   "source": [
    "**Shuffle and split**"
   ]
  },
  {
   "cell_type": "code",
   "execution_count": 7,
   "metadata": {
    "pycharm": {
     "name": "#%%\n"
    }
   },
   "outputs": [],
   "source": [
    "# get randomly shuffled indices\n",
    "idc = np.arange(len(sentences))\n",
    "np.random.shuffle(idc)\n",
    "\n",
    "# shuffle the dataset\n",
    "sentences = sentences[idc]\n",
    "labels = labels[idc]"
   ]
  },
  {
   "cell_type": "code",
   "execution_count": 8,
   "metadata": {
    "pycharm": {
     "name": "#%%\n"
    }
   },
   "outputs": [
    {
     "name": "stdout",
     "output_type": "stream",
     "text": [
      "training samples: 1780\n",
      "validation samples: 445\n"
     ]
    }
   ],
   "source": [
    "# number of training samples\n",
    "num_train = int(TRAIN_SPLIT *  len(sentences))\n",
    "\n",
    "# training subset\n",
    "train_sentences = sentences[:num_train]\n",
    "train_labels = labels[:num_train]\n",
    "\n",
    "# validation subset\n",
    "validation_sentences = sentences[num_train:]\n",
    "validation_labels = labels[num_train:]\n",
    "\n",
    "# check the size\n",
    "print(f'training samples: {len(train_sentences)}')\n",
    "print(f'validation samples: {len(validation_sentences)}')"
   ]
  },
  {
   "cell_type": "markdown",
   "metadata": {
    "pycharm": {
     "name": "#%% md\n"
    }
   },
   "source": [
    "## Pre-processing\n",
    "\n",
    "**Training data**"
   ]
  },
  {
   "cell_type": "code",
   "execution_count": 9,
   "metadata": {
    "pycharm": {
     "name": "#%%\n"
    }
   },
   "outputs": [
    {
     "name": "stdout",
     "output_type": "stream",
     "text": [
      "(1780, 120)\n"
     ]
    }
   ],
   "source": [
    "# initiate a tokenizer\n",
    "tokenizer = Tokenizer(oov_token='<OOV>')\n",
    "# update the vocabulary on training texts\n",
    "tokenizer.fit_on_texts(train_sentences)\n",
    "\n",
    "# vocabulary\n",
    "word_index = tokenizer.word_index\n",
    "vocab_size = len(word_index)\n",
    "\n",
    "# get sequences\n",
    "train_sequences = tokenizer.texts_to_sequences(train_sentences)\n",
    "# padding\n",
    "train_padded = pad_sequences(train_sequences, padding=PAD_TYPE, maxlen=MAX_LENGTH, truncating=TRUNC_TYPE)\n",
    "\n",
    "print(train_padded.shape)"
   ]
  },
  {
   "cell_type": "markdown",
   "metadata": {
    "pycharm": {
     "name": "#%% md\n"
    }
   },
   "source": [
    "**Validation data**"
   ]
  },
  {
   "cell_type": "code",
   "execution_count": 10,
   "metadata": {
    "pycharm": {
     "name": "#%%\n"
    }
   },
   "outputs": [
    {
     "name": "stdout",
     "output_type": "stream",
     "text": [
      "(445, 120)\n"
     ]
    }
   ],
   "source": [
    "# get sequences\n",
    "validation_sequences = tokenizer.texts_to_sequences(validation_sentences)\n",
    "# padding\n",
    "validation_padded = pad_sequences(validation_sequences, padding=PAD_TYPE, maxlen=MAX_LENGTH, truncating=TRUNC_TYPE)\n",
    "\n",
    "print(validation_padded.shape)"
   ]
  },
  {
   "cell_type": "markdown",
   "metadata": {
    "pycharm": {
     "name": "#%% md\n"
    }
   },
   "source": [
    "**Labels**"
   ]
  },
  {
   "cell_type": "code",
   "execution_count": 11,
   "metadata": {
    "pycharm": {
     "name": "#%%\n"
    }
   },
   "outputs": [
    {
     "name": "stdout",
     "output_type": "stream",
     "text": [
      "[2 1 1 1 1] ... (1780,)\n"
     ]
    }
   ],
   "source": [
    "# tokenize the labels\n",
    "label_tokenizer = Tokenizer()\n",
    "label_tokenizer.fit_on_texts(train_labels)\n",
    "\n",
    "# get the sequences\n",
    "training_label_seq = label_tokenizer.texts_to_sequences(train_labels)\n",
    "validation_label_seq = label_tokenizer.texts_to_sequences(validation_labels)\n",
    "\n",
    "# convert to numpy\n",
    "training_label_seq = np.array(training_label_seq).squeeze() - 1\n",
    "validation_label_seq = np.array(validation_label_seq).squeeze() - 1\n",
    "\n",
    "# see some example\n",
    "print(training_label_seq[:5], '...', training_label_seq.shape)"
   ]
  },
  {
   "cell_type": "markdown",
   "metadata": {
    "pycharm": {
     "name": "#%% md\n"
    }
   },
   "source": [
    "## Pre-trained Embeddings\n",
    "\n",
    "**GloVe**\n",
    "([See more](https://nlp.stanford.edu/projects/glove/))\n"
   ]
  },
  {
   "cell_type": "code",
   "execution_count": 12,
   "metadata": {
    "pycharm": {
     "name": "#%%\n"
    }
   },
   "outputs": [
    {
     "name": "stdout",
     "output_type": "stream",
     "text": [
      "(27219, 100)\n"
     ]
    }
   ],
   "source": [
    "data_url = 'https://storage.googleapis.com/laurencemoroney-blog.appspot.com/glove.6B.100d.txt'\n",
    "path_out = '../.tmp/glove.6B.100d.txt'\n",
    "save_mat = LOG_DIR + '/' + PROBLEM + '-glove_embedding.npy'\n",
    "\n",
    "# download the dataset\n",
    "if not os.path.exists(path_out):\n",
    "    os.system(f\"\"\"wget --no-check-certificate {data_url} -O {path_out}\"\"\")\n",
    "\n",
    "if os.path.exists(save_mat):\n",
    "    embeddings_matrix = np.load(save_mat)\n",
    "else:\n",
    "    embeddings_index = {}\n",
    "    with open(path_out, 'r', encoding='utf8') as f:\n",
    "        for line in f:\n",
    "            values = line.split()\n",
    "            word = values[0]\n",
    "            coefs = np.asarray(values[1:], dtype='float32')\n",
    "            embeddings_index[word] = coefs\n",
    "\n",
    "    embeddings_matrix = np.zeros((vocab_size+1, EMBED_DIMS))\n",
    "    for word, i in tokenizer.word_index.items():\n",
    "        embedding_vector = embeddings_index.get(word)\n",
    "        if embedding_vector is not None:\n",
    "            embeddings_matrix[i] = embedding_vector\n",
    "\n",
    "    np.save(save_mat, embeddings_matrix)\n",
    "\n",
    "# pre-trained embeddings\n",
    "print(embeddings_matrix.shape)"
   ]
  },
  {
   "cell_type": "markdown",
   "metadata": {
    "pycharm": {
     "name": "#%% md\n"
    }
   },
   "source": [
    "## Model"
   ]
  },
  {
   "cell_type": "code",
   "execution_count": 13,
   "metadata": {
    "pycharm": {
     "name": "#%%\n"
    }
   },
   "outputs": [
    {
     "name": "stdout",
     "output_type": "stream",
     "text": [
      "Model: \"model\"\n",
      "_________________________________________________________________\n",
      "Layer (type)                 Output Shape              Param #   \n",
      "=================================================================\n",
      "input_1 (InputLayer)         [(None, 120)]             0         \n",
      "_________________________________________________________________\n",
      "embedding (Embedding)        (None, 120, 100)          2721900   \n",
      "_________________________________________________________________\n",
      "dropout (Dropout)            (None, 120, 100)          0         \n",
      "_________________________________________________________________\n",
      "conv1d (Conv1D)              (None, 116, 64)           32064     \n",
      "_________________________________________________________________\n",
      "max_pooling1d (MaxPooling1D) (None, 29, 64)            0         \n",
      "_________________________________________________________________\n",
      "lstm (LSTM)                  (None, 64)                33024     \n",
      "_________________________________________________________________\n",
      "dense (Dense)                (None, 5)                 325       \n",
      "=================================================================\n",
      "Total params: 2,787,313\n",
      "Trainable params: 65,413\n",
      "Non-trainable params: 2,721,900\n",
      "_________________________________________________________________\n"
     ]
    }
   ],
   "source": [
    "# input layer\n",
    "input_tensor = Input(shape=MAX_LENGTH)\n",
    "\n",
    "# pre-trained embedding layer\n",
    "x = Embedding(\n",
    "    input_dim=embeddings_matrix.shape[0],\n",
    "    output_dim=embeddings_matrix.shape[1],\n",
    "    input_length=MAX_LENGTH,\n",
    "    weights=[embeddings_matrix],\n",
    "    trainable=False\n",
    ")(input_tensor)\n",
    "\n",
    "# hidden layers\n",
    "x = Dropout(0.2)(x)\n",
    "x = Conv1D(64, 5, activation='relu')(x)\n",
    "x = MaxPooling1D(pool_size=4)(x)\n",
    "x = LSTM(64)(x)\n",
    "\n",
    "# output layer\n",
    "output_tensor = Dense(5, activation='softmax')(x)\n",
    "\n",
    "# model\n",
    "model = tf.keras.Model(input_tensor, output_tensor)\n",
    "\n",
    "# compile\n",
    "model.compile(\n",
    "    optimizer=Adam(),\n",
    "    loss='sparse_categorical_crossentropy',\n",
    "    metrics=['acc']\n",
    ")\n",
    "\n",
    "# model summary\n",
    "model.summary()"
   ]
  },
  {
   "cell_type": "markdown",
   "metadata": {
    "pycharm": {
     "name": "#%% md\n"
    }
   },
   "source": [
    "## Train\n",
    "\n",
    "**Callbacks**"
   ]
  },
  {
   "cell_type": "code",
   "execution_count": 14,
   "metadata": {
    "pycharm": {
     "name": "#%%\n"
    }
   },
   "outputs": [],
   "source": [
    "# reduce learning rate\n",
    "reduce_rl = ReduceLROnPlateau(\n",
    "    monitor='val_acc', mode='max', factor=0.1, patience=3, verbose=2\n",
    ")\n",
    "\n",
    "# stop training\n",
    "early_stopping = EarlyStopping(\n",
    "    monitor='val_acc',  mode='max', min_delta=0, patience=10, verbose=2, restore_best_weights=True\n",
    ")"
   ]
  },
  {
   "cell_type": "markdown",
   "metadata": {},
   "source": [
    "**Star Training**"
   ]
  },
  {
   "cell_type": "code",
   "execution_count": 15,
   "metadata": {
    "pycharm": {
     "is_executing": true,
     "name": "#%%\n"
    }
   },
   "outputs": [
    {
     "name": "stdout",
     "output_type": "stream",
     "text": [
      "Train on 1780 samples, validate on 445 samples\n",
      "Epoch 1/30\n",
      "1780/1780 [==============================] - 9s 5ms/sample - loss: 1.4494 - acc: 0.4466 - val_loss: 1.1757 - val_acc: 0.6966\n",
      "Epoch 2/30\n",
      "1780/1780 [==============================] - 0s 122us/sample - loss: 0.9510 - acc: 0.7736 - val_loss: 0.6947 - val_acc: 0.8427\n",
      "Epoch 3/30\n",
      "1780/1780 [==============================] - 0s 117us/sample - loss: 0.5122 - acc: 0.8854 - val_loss: 0.3547 - val_acc: 0.9213\n",
      "Epoch 4/30\n",
      "1780/1780 [==============================] - 0s 120us/sample - loss: 0.3005 - acc: 0.9140 - val_loss: 0.2351 - val_acc: 0.9303\n",
      "Epoch 5/30\n",
      "1780/1780 [==============================] - 0s 109us/sample - loss: 0.2161 - acc: 0.9258 - val_loss: 0.2185 - val_acc: 0.9348\n",
      "Epoch 6/30\n",
      "1780/1780 [==============================] - 0s 94us/sample - loss: 0.1733 - acc: 0.9433 - val_loss: 0.1768 - val_acc: 0.9393\n",
      "Epoch 7/30\n",
      "1780/1780 [==============================] - 0s 107us/sample - loss: 0.1454 - acc: 0.9601 - val_loss: 0.1943 - val_acc: 0.9416\n",
      "Epoch 8/30\n",
      "1780/1780 [==============================] - 0s 94us/sample - loss: 0.1386 - acc: 0.9556 - val_loss: 0.2521 - val_acc: 0.9191\n",
      "Epoch 9/30\n",
      "1780/1780 [==============================] - 0s 92us/sample - loss: 0.1456 - acc: 0.9534 - val_loss: 0.2702 - val_acc: 0.9101\n",
      "Epoch 10/30\n",
      "1250/1780 [====================>.........] - ETA: 0s - loss: 0.1881 - acc: 0.9344\n",
      "Epoch 00010: ReduceLROnPlateau reducing learning rate to 0.00010000000474974513.\n",
      "1780/1780 [==============================] - 0s 89us/sample - loss: 0.1706 - acc: 0.9438 - val_loss: 0.2495 - val_acc: 0.9236\n",
      "Epoch 11/30\n",
      "1780/1780 [==============================] - 0s 83us/sample - loss: 0.1541 - acc: 0.9472 - val_loss: 0.1977 - val_acc: 0.9371\n",
      "Epoch 12/30\n",
      "1780/1780 [==============================] - 0s 96us/sample - loss: 0.1115 - acc: 0.9635 - val_loss: 0.1803 - val_acc: 0.9461\n",
      "Epoch 13/30\n",
      "1780/1780 [==============================] - 0s 87us/sample - loss: 0.1037 - acc: 0.9708 - val_loss: 0.1873 - val_acc: 0.9393\n",
      "Epoch 14/30\n",
      "1780/1780 [==============================] - 0s 84us/sample - loss: 0.0972 - acc: 0.9702 - val_loss: 0.1815 - val_acc: 0.9438\n",
      "Epoch 15/30\n",
      "1750/1780 [============================>.] - ETA: 0s - loss: 0.1046 - acc: 0.9663\n",
      "Epoch 00015: ReduceLROnPlateau reducing learning rate to 1.0000000474974514e-05.\n",
      "1780/1780 [==============================] - 0s 94us/sample - loss: 0.1038 - acc: 0.9663 - val_loss: 0.1908 - val_acc: 0.9438\n",
      "Epoch 16/30\n",
      "1780/1780 [==============================] - 0s 90us/sample - loss: 0.0901 - acc: 0.9753 - val_loss: 0.1900 - val_acc: 0.9438\n",
      "Epoch 17/30\n",
      "1780/1780 [==============================] - 0s 93us/sample - loss: 0.0925 - acc: 0.9736 - val_loss: 0.1869 - val_acc: 0.9438\n",
      "Epoch 18/30\n",
      "1250/1780 [====================>.........] - ETA: 0s - loss: 0.0831 - acc: 0.9776\n",
      "Epoch 00018: ReduceLROnPlateau reducing learning rate to 1.0000000656873453e-06.\n",
      "1780/1780 [==============================] - 0s 92us/sample - loss: 0.0869 - acc: 0.9775 - val_loss: 0.1841 - val_acc: 0.9438\n",
      "Epoch 19/30\n",
      "1780/1780 [==============================] - 0s 83us/sample - loss: 0.0871 - acc: 0.9747 - val_loss: 0.1839 - val_acc: 0.9438\n",
      "Epoch 20/30\n",
      "1780/1780 [==============================] - 0s 92us/sample - loss: 0.0942 - acc: 0.9742 - val_loss: 0.1837 - val_acc: 0.9438\n",
      "Epoch 21/30\n",
      "1750/1780 [============================>.] - ETA: 0s - loss: 0.0953 - acc: 0.9737\n",
      "Epoch 00021: ReduceLROnPlateau reducing learning rate to 1.0000001111620805e-07.\n",
      "1780/1780 [==============================] - 0s 94us/sample - loss: 0.0947 - acc: 0.9742 - val_loss: 0.1837 - val_acc: 0.9438\n",
      "Epoch 22/30\n",
      "1250/1780 [====================>.........] - ETA: 0s - loss: 0.0869 - acc: 0.9752Restoring model weights from the end of the best epoch.\n",
      "1780/1780 [==============================] - 0s 87us/sample - loss: 0.0855 - acc: 0.9770 - val_loss: 0.1837 - val_acc: 0.9438\n",
      "Epoch 00022: early stopping\n"
     ]
    }
   ],
   "source": [
    "# train the model\n",
    "hist = model.fit(\n",
    "    train_padded, training_label_seq,\n",
    "    batch_size=250,\n",
    "    validation_data=(validation_padded, validation_label_seq),\n",
    "    epochs=30,\n",
    "    verbose=1,\n",
    "    callbacks=[reduce_rl, early_stopping]\n",
    ")"
   ]
  },
  {
   "cell_type": "markdown",
   "metadata": {},
   "source": [
    "**Show training graphs**"
   ]
  },
  {
   "cell_type": "code",
   "execution_count": 16,
   "metadata": {
    "pycharm": {
     "name": "#%%\n"
    }
   },
   "outputs": [
    {
     "data": {
      "image/png": "[encoded data removed]",
      "text/plain": [
       "<Figure size 432x288 with 1 Axes>"
      ]
     },
     "metadata": {
      "needs_background": "light"
     },
     "output_type": "display_data"
    },
    {
     "data": {
      "image/png": "[encoded data removed]",
      "text/plain": [
       "<Figure size 432x288 with 1 Axes>"
      ]
     },
     "metadata": {
      "needs_background": "light"
     },
     "output_type": "display_data"
    }
   ],
   "source": [
    "def plot_graphs(history, metrics):\n",
    "    plt.figure()\n",
    "    for metric in metrics:\n",
    "        plt.plot(history.history[metric], label=metric)\n",
    "    plt.xlabel(\"Epochs\")\n",
    "    plt.legend()\n",
    "    plt.show()\n",
    "\n",
    "plot_graphs(hist, [\"acc\", \"val_acc\"])\n",
    "plot_graphs(hist, [\"loss\", \"val_loss\"])"
   ]
  },
  {
   "cell_type": "markdown",
   "metadata": {},
   "source": [
    "##Save Learned Embeddings\n",
    "\n",
    "**vector and metadata**"
   ]
  },
  {
   "cell_type": "code",
   "execution_count": 17,
   "metadata": {
    "pycharm": {
     "name": "#%%\n"
    }
   },
   "outputs": [],
   "source": [
    "# index to word dictionary\n",
    "reverse_word_index = dict([(value, key) for (key, value) in tokenizer.word_index.items()])\n",
    "\n",
    "# get the weights in the embedding layers\n",
    "weights = model.layers[1].get_weights()[0]\n",
    "\n",
    "out_v = io.open(LOG_DIR + '/' + PROBLEM + '-vecs.tsv', 'w', encoding='utf-8')\n",
    "out_m = io.open(LOG_DIR + '/' + PROBLEM + '-meta.tsv', 'w', encoding='utf-8')\n",
    "\n",
    "for word_num in range(1, vocab_size):\n",
    "    word = reverse_word_index[word_num]\n",
    "    embeddings = weights[word_num]\n",
    "    out_m.write(word + \"\\n\")\n",
    "    out_v.write('\\t'.join([str(x) for x in embeddings]) + \"\\n\")\n",
    "\n",
    "out_v.close()\n",
    "out_m.close()"
   ]
  },
  {
   "cell_type": "markdown",
   "metadata": {},
   "source": [
    "**Visualize**\n",
    "- Go to [tensorflor embedding projector](http://projector.tensorflow.org/).\n",
    "- Upload the `vecs.tsv` and `meta.tsv` files and see the embeddings."
   ]
  }
 ],
 "metadata": {
  "kernelspec": {
   "display_name": "Python 3.7.7 64-bit ('tf2-plus': conda)",
   "language": "python",
   "name": "python37764bittf2pluscondaab7d8de0804d40f7b6e27d871405ec4e"
  },
  "language_info": {
   "codemirror_mode": {
    "name": "ipython",
    "version": 3
   },
   "file_extension": ".py",
   "mimetype": "text/x-python",
   "name": "python",
   "nbconvert_exporter": "python",
   "pygments_lexer": "ipython3",
   "version": "3.7.7"
  }
 },
 "nbformat": 4,
 "nbformat_minor": 2
}