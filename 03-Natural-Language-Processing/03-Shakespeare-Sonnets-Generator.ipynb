{
 "cells": [
  {
   "cell_type": "markdown",
   "metadata": {
    "collapsed": true,
    "pycharm": {
     "name": "#%% md\n"
    }
   },
   "source": [
    "# **SHAKESPEARE'S SONNETS**\n",
    "\n",
    "## Problem\n",
    "Learn from [Shakespeare's sonnets]() (cleaned) to auto-generate poems."
   ]
  },
  {
   "cell_type": "markdown",
   "metadata": {},
   "source": [
    "## Initialize"
   ]
  },
  {
   "cell_type": "code",
   "execution_count": 1,
   "metadata": {
    "pycharm": {
     "name": "#%%\n"
    }
   },
   "outputs": [],
   "source": [
    "import os\n",
    "import io\n",
    "import warnings\n",
    "\n",
    "import numpy as np\n",
    "import pandas as pd\n",
    "import tensorflow as tf\n",
    "import tensorflow_datasets as tfds\n",
    "import matplotlib.pyplot as plt\n",
    "\n",
    "from tensorflow.keras.preprocessing.text import Tokenizer\n",
    "from tensorflow.keras.preprocessing.sequence import pad_sequences\n",
    "from tensorflow.keras.layers import Input, Embedding, Flatten, Dense, GlobalAveragePooling1D, Bidirectional, LSTM, Conv1D, MaxPooling1D, Dropout\n",
    "from tensorflow.keras.optimizers import Adam\n",
    "from tensorflow.keras.callbacks import ReduceLROnPlateau, EarlyStopping, TensorBoard\n",
    "from tensorflow.keras import regularizers"
   ]
  },
  {
   "cell_type": "code",
   "execution_count": 2,
   "metadata": {
    "pycharm": {
     "name": "#%%\n"
    }
   },
   "outputs": [],
   "source": [
    "# set random seeds\n",
    "np.random.seed(0)\n",
    "tf.random.set_seed(0)\n",
    "\n",
    "# show figures inline\n",
    "%matplotlib inline\n",
    "\n",
    "# ignore all warning (NOT recommended)\n",
    "warnings.filterwarnings(\"ignore\")"
   ]
  },
  {
   "cell_type": "markdown",
   "metadata": {},
   "source": [
    "**Global inputs**"
   ]
  },
  {
   "cell_type": "code",
   "execution_count": 3,
   "metadata": {
    "pycharm": {
     "name": "#%%\n"
    }
   },
   "outputs": [],
   "source": [
    "PAD_TYPE = 'pre'\n",
    "LOG_DIR = '03-logs'\n",
    "PROBLEM = 'poem'\n",
    "EMBED_DIMS = 100"
   ]
  },
  {
   "cell_type": "markdown",
   "metadata": {},
   "source": [
    "## Dataset\n",
    "**Get the dataset**"
   ]
  },
  {
   "cell_type": "code",
   "execution_count": 4,
   "metadata": {
    "pycharm": {
     "name": "#%%\n"
    }
   },
   "outputs": [
    {
     "data": {
      "text/plain": [
       "['FROM fairest creatures we desire increase,',\n",
       " \"That thereby beauty's rose might never die,\",\n",
       " 'But as the riper should by time decease,',\n",
       " 'His tender heir might bear his memory:',\n",
       " 'But thou, contracted to thine own bright eyes,']"
      ]
     },
     "execution_count": 4,
     "metadata": {},
     "output_type": "execute_result"
    }
   ],
   "source": [
    "data_url = 'https://storage.googleapis.com/laurencemoroney-blog.appspot.com/sonnets.txt'\n",
    "path_out = '../.tmp/sonnets.txt'\n",
    "\n",
    "# download the dataset\n",
    "if not os.path.exists(path_out):\n",
    "    os.system(f\"\"\"wget --no-check-certificate {data_url} -O {path_out}\"\"\")\n",
    "\n",
    "# read the text file\n",
    "with open(path_out, 'r') as f:\n",
    "    data = f.read().split('\\n')\n",
    "\n",
    "# check the data\n",
    "data[:5]"
   ]
  },
  {
   "cell_type": "markdown",
   "metadata": {
    "pycharm": {
     "name": "#%% md\n"
    }
   },
   "source": [
    "## Pre-processing"
   ]
  },
  {
   "cell_type": "code",
   "execution_count": 5,
   "metadata": {
    "pycharm": {
     "name": "#%%\n"
    }
   },
   "outputs": [],
   "source": [
    "# convert all texts to lower case\n",
    "corpus = [line.lower() for line in data]\n",
    "\n",
    "# initiate a tokenizer\n",
    "tokenizer = Tokenizer(oov_token='<OOV>')\n",
    "# update the vocabulary on the texts\n",
    "tokenizer.fit_on_texts(corpus)\n",
    "\n",
    "# total number of words\n",
    "total_words = len(tokenizer.word_index) + 1\n",
    "\n",
    "# create input sequences\n",
    "input_sequences = []\n",
    "max_len = 0\n",
    "for line in corpus:\n",
    "    # ignore empty lines\n",
    "    if line == '':\n",
    "        continue\n",
    "    # convert the text line to a list of tokens\n",
    "    token_line = tokenizer.texts_to_sequences([line])[0]\n",
    "    # create sequence of 1st 2, 3, ... words (a.k.a. n-gram sequence)\n",
    "    for i in range(1, len(token_line)):\n",
    "        n_gram_sequence = token_line[:i+1]\n",
    "        # append to the input sequences\n",
    "        input_sequences.append(n_gram_sequence)\n",
    "        # keep track of maximum length\n",
    "        max_len = max(max_len, len(n_gram_sequence))\n",
    "\n",
    "# padded sequences\n",
    "input_sequences = pad_sequences(input_sequences, padding=PAD_TYPE, maxlen=max_len)\n",
    "# convert to numpy array\n",
    "input_sequences = np.array(input_sequences)\n",
    "\n",
    "# the sequence up to 2nd to the last is predictor\n",
    "predictors = input_sequences[:, :-1]\n",
    "# the last one in the sequence is the label\n",
    "labels = input_sequences[:, -1]\n",
    "# convert labels to one-hot encodings\n",
    "labels = tf.keras.utils.to_categorical(labels, num_classes=total_words)"
   ]
  },
  {
   "cell_type": "code",
   "execution_count": 6,
   "metadata": {
    "pycharm": {
     "name": "#%%\n"
    }
   },
   "outputs": [
    {
     "name": "stdout",
     "output_type": "stream",
     "text": [
      "data size: (15462, 11)\n",
      "predictor: [ 0  0  0  0  0  0  0  0  0 35], label: [0. 0. 0. ... 0. 0. 0.]\n",
      "predictor: [  0   0   0   0   0   0   0   0  35 418], label: [0. 0. 0. ... 0. 0. 0.]\n",
      "predictor: [  0   0   0   0   0   0   0  35 418 878], label: [0. 0. 0. ... 0. 0. 0.]\n",
      "predictor: [  0   0   0   0   0   0  35 418 878 167], label: [0. 0. 0. ... 0. 0. 0.]\n",
      "predictor: [  0   0   0   0   0  35 418 878 167 214], label: [0. 0. 0. ... 0. 0. 0.]\n"
     ]
    }
   ],
   "source": [
    "# check\n",
    "print(f'data size: {input_sequences.shape}')\n",
    "for i in range(5):\n",
    "    print(f'predictor: {predictors[i]}, label: {labels[i]}')"
   ]
  },
  {
   "cell_type": "markdown",
   "metadata": {
    "pycharm": {
     "name": "#%% md\n"
    }
   },
   "source": [
    "## Pre-trained Embeddings\n",
    "\n",
    "**GloVe**\n",
    "([See more](https://nlp.stanford.edu/projects/glove/))\n"
   ]
  },
  {
   "cell_type": "code",
   "execution_count": 7,
   "metadata": {
    "pycharm": {
     "name": "#%%\n"
    }
   },
   "outputs": [
    {
     "name": "stdout",
     "output_type": "stream",
     "text": [
      "(3212, 100)\n"
     ]
    }
   ],
   "source": [
    "data_url = 'https://storage.googleapis.com/laurencemoroney-blog.appspot.com/glove.6B.100d.txt'\n",
    "path_out = '../.tmp/glove.6B.100d.txt'\n",
    "save_mat = LOG_DIR + '/' + PROBLEM + '-glove_embedding.npy'\n",
    "\n",
    "# download the dataset\n",
    "if not os.path.exists(path_out):\n",
    "    os.system(f\"\"\"wget --no-check-certificate {data_url} -O {path_out}\"\"\")\n",
    "\n",
    "if os.path.exists(save_mat):\n",
    "    embeddings_matrix = np.load(save_mat)\n",
    "else:\n",
    "    embeddings_index = {}\n",
    "    with open(path_out, 'r', encoding='utf8') as f:\n",
    "        for line in f:\n",
    "            values = line.split()\n",
    "            word = values[0]\n",
    "            coefs = np.asarray(values[1:], dtype='float32')\n",
    "            embeddings_index[word] = coefs\n",
    "\n",
    "    embeddings_matrix = np.zeros((total_words, EMBED_DIMS))\n",
    "    for word, i in tokenizer.word_index.items():\n",
    "        embedding_vector = embeddings_index.get(word)\n",
    "        if embedding_vector is not None:\n",
    "            embeddings_matrix[i] = embedding_vector\n",
    "\n",
    "    np.save(save_mat, embeddings_matrix)\n",
    "\n",
    "# pre-trained embeddings\n",
    "print(embeddings_matrix.shape)"
   ]
  },
  {
   "cell_type": "markdown",
   "metadata": {
    "pycharm": {
     "name": "#%% md\n"
    }
   },
   "source": [
    "## Model\n",
    "\n",
    "**Note**\n",
    "- We used a pre-trained embedding layers (kept the layer frozen).\n",
    "- Then, a bidirectional LSTM layer.\n",
    "- Before the output layer, we used a dense layer with kernel regulizer.\n",
    "- We used `'softmax'` activation function in output layer since it is a multi-class classification problem.\n",
    "- Since the multi-class labels are one-hot encoded, we used `'categorical_crossentropy'` as loss function."
   ]
  },
  {
   "cell_type": "code",
   "execution_count": 8,
   "metadata": {
    "pycharm": {
     "name": "#%%\n"
    }
   },
   "outputs": [
    {
     "name": "stdout",
     "output_type": "stream",
     "text": [
      "Model: \"model\"\n",
      "_________________________________________________________________\n",
      "Layer (type)                 Output Shape              Param #   \n",
      "=================================================================\n",
      "input_1 (InputLayer)         [(None, 10)]              0         \n",
      "_________________________________________________________________\n",
      "embedding (Embedding)        (None, 10, 100)           321200    \n",
      "_________________________________________________________________\n",
      "bidirectional (Bidirectional (None, 10, 300)           301200    \n",
      "_________________________________________________________________\n",
      "dropout (Dropout)            (None, 10, 300)           0         \n",
      "_________________________________________________________________\n",
      "lstm_1 (LSTM)                (None, 100)               160400    \n",
      "_________________________________________________________________\n",
      "dense (Dense)                (None, 1606)              162206    \n",
      "_________________________________________________________________\n",
      "dense_1 (Dense)              (None, 3212)              5161684   \n",
      "=================================================================\n",
      "Total params: 6,106,690\n",
      "Trainable params: 5,785,490\n",
      "Non-trainable params: 321,200\n",
      "_________________________________________________________________\n"
     ]
    }
   ],
   "source": [
    "# input layer\n",
    "input_tensor = Input(shape=max_len-1)  # -1 because we used one for label\n",
    "\n",
    "# pre-trained embedding layer\n",
    "x = Embedding(\n",
    "    input_dim=embeddings_matrix.shape[0],\n",
    "    output_dim=embeddings_matrix.shape[1],\n",
    "    input_length=max_len-1,  # -1 because we used one for label\n",
    "    weights=[embeddings_matrix],\n",
    "    trainable=False\n",
    ")(input_tensor)\n",
    "\n",
    "# hidden layers\n",
    "x = Bidirectional(LSTM(150, return_sequences=True))(x)\n",
    "x = Dropout(0.2)(x)\n",
    "x = LSTM(100)(x)\n",
    "x = Dense(total_words//2, activation='relu', kernel_regularizer=regularizers.l2(0.01))(x)\n",
    "\n",
    "# output layer\n",
    "output_tensor = Dense(total_words, activation='softmax')(x)\n",
    "\n",
    "# model\n",
    "model = tf.keras.Model(input_tensor, output_tensor)\n",
    "\n",
    "# compile\n",
    "model.compile(\n",
    "    optimizer=Adam(),\n",
    "    loss='categorical_crossentropy'\n",
    ")\n",
    "\n",
    "# model summary\n",
    "model.summary()"
   ]
  },
  {
   "cell_type": "markdown",
   "metadata": {},
   "source": [
    "## Train\n",
    "\n",
    "**Callbacks**"
   ]
  },
  {
   "cell_type": "code",
   "execution_count": 9,
   "metadata": {
    "pycharm": {
     "name": "#%%\n"
    }
   },
   "outputs": [],
   "source": [
    "# reduce learning rate\n",
    "reduce_rl = ReduceLROnPlateau(\n",
    "    monitor='loss', mode='min', factor=0.1, patience=5, verbose=2\n",
    ")\n",
    "\n",
    "# stop training\n",
    "early_stopping = EarlyStopping(\n",
    "    monitor='loss',  mode='min', min_delta=0, patience=20, verbose=2, restore_best_weights=True\n",
    ")"
   ]
  },
  {
   "cell_type": "markdown",
   "metadata": {},
   "source": [
    "**Start Training**"
   ]
  },
  {
   "cell_type": "code",
   "execution_count": 10,
   "metadata": {
    "pycharm": {
     "name": "#%%\n"
    }
   },
   "outputs": [
    {
     "name": "stdout",
     "output_type": "stream",
     "text": [
      "Train on 15462 samples\n",
      "Epoch 1/100\n",
      "15462/15462 [==============================] - 10s 624us/sample - loss: 6.9036 - los\n",
      "Epoch 2/100\n",
      "15462/15462 [==============================] - 5s 339us/sample - loss: 6.5539\n",
      "Epoch 3/100\n",
      "15462/15462 [==============================] - 5s 331us/sample - loss: 6.5006\n",
      "Epoch 4/100\n",
      "15462/15462 [==============================] - 5s 333us/sample - loss: 6.4584\n",
      "Epoch 5/100\n",
      "15462/15462 [==============================] - 5s 333us/sample - loss: 6.3882s - loss: 6 - ETA:\n",
      "Epoch 6/100\n",
      "15462/15462 [==============================] - 5s 336us/sample - loss: 6.3123s - loss: 6.314\n",
      "Epoch 7/100\n",
      "15462/15462 [==============================] - 5s 334us/sample - loss: 6.2389\n",
      "Epoch 8/100\n",
      "15462/15462 [==============================] - 5s 340us/sample - loss: 6.1585\n",
      "Epoch 9/100\n",
      "15462/15462 [==============================] - 5s 327us/sample - loss: 6.0835s - loss:  \n",
      "Epoch 10/100\n",
      "15462/15462 [==============================] - 5s 329us/sample - loss: 6.0050\n",
      "Epoch 11/100\n",
      "15462/15462 [==============================] - 5s 335us/sample - loss: 5.9245\n",
      "Epoch 12/100\n",
      "15462/15462 [==============================] - 5s 338us/sample - loss: 5.8403\n",
      "Epoch 13/100\n",
      "15462/15462 [==============================] - 5s 332us/sample - loss: 5.7532\n",
      "Epoch 14/100\n",
      "15462/15462 [==============================] - 5s 328us/sample - loss: 5.6619\n",
      "Epoch 15/100\n",
      "15462/15462 [==============================] - 5s 345us/sample - loss: 5.5702\n",
      "Epoch 16/100\n",
      "15462/15462 [==============================] - 5s 347us/sample - loss: 5.4833\n",
      "Epoch 17/100\n",
      "15462/15462 [==============================] - 5s 350us/sample - loss: 5.3948\n",
      "Epoch 18/100\n",
      "15462/15462 [==============================] - 5s 342us/sample - loss: 5.3137\n",
      "Epoch 19/100\n",
      "15462/15462 [==============================] - 5s 348us/sample - loss: 5.2278\n",
      "Epoch 20/100\n",
      "15462/15462 [==============================] - 5s 348us/sample - loss: 5.1490\n",
      "Epoch 21/100\n",
      "15462/15462 [==============================] - 5s 349us/sample - loss: 5.0649\n",
      "Epoch 22/100\n",
      "15462/15462 [==============================] - 5s 347us/sample - loss: 4.9809\n",
      "Epoch 23/100\n",
      "15462/15462 [==============================] - 5s 339us/sample - loss: 4.8957\n",
      "Epoch 24/100\n",
      "15462/15462 [==============================] - 5s 339us/sample - loss: 4.8100\n",
      "Epoch 25/100\n",
      "15462/15462 [==============================] - ETA: 0s - loss: 4.735 - 5s 339us/sample - loss: 4.7355\n",
      "Epoch 26/100\n",
      "15462/15462 [==============================] - 5s 338us/sample - loss: 4.6521\n",
      "Epoch 27/100\n",
      "15462/15462 [==============================] - 5s 338us/sample - loss: 4.5552s - loss: 4.553\n",
      "Epoch 28/100\n",
      "15462/15462 [==============================] - 5s 336us/sample - loss: 4.4838\n",
      "Epoch 29/100\n",
      "15462/15462 [==============================] - 5s 337us/sample - loss: 4.3852\n",
      "Epoch 30/100\n",
      "15462/15462 [==============================] - 5s 339us/sample - loss: 4.3080\n",
      "Epoch 31/100\n",
      "15462/15462 [==============================] - 5s 337us/sample - loss: 4.2235s - loss:\n",
      "Epoch 32/100\n",
      "15462/15462 [==============================] - 5s 338us/sample - loss: 4.1359\n",
      "Epoch 33/100\n",
      "15462/15462 [==============================] - 5s 336us/sample - loss: 4.0579\n",
      "Epoch 34/100\n",
      "15462/15462 [==============================] - 5s 340us/sample - loss: 3.9672\n",
      "Epoch 35/100\n",
      "15462/15462 [==============================] - 5s 340us/sample - loss: 3.8951\n",
      "Epoch 36/100\n",
      "15462/15462 [==============================] - 5s 346us/sample - loss: 3.8106\n",
      "Epoch 37/100\n",
      "15462/15462 [==============================] - 5s 335us/sample - loss: 3.7390\n",
      "Epoch 38/100\n",
      "15462/15462 [==============================] - 5s 339us/sample - loss: 3.6610\n",
      "Epoch 39/100\n",
      "15462/15462 [==============================] - 5s 337us/sample - loss: 3.5800\n",
      "Epoch 40/100\n",
      "15462/15462 [==============================] - 5s 336us/sample - loss: 3.5004\n",
      "Epoch 41/100\n",
      "15462/15462 [==============================] - 5s 349us/sample - loss: 3.4398\n",
      "Epoch 42/100\n",
      "15462/15462 [==============================] - 6s 360us/sample - loss: 3.3815\n",
      "Epoch 43/100\n",
      "15462/15462 [==============================] - 5s 347us/sample - loss: 3.3098\n",
      "Epoch 44/100\n",
      "15462/15462 [==============================] - 5s 348us/sample - loss: 3.2299\n",
      "Epoch 45/100\n",
      "15462/15462 [==============================] - 5s 346us/sample - loss: 3.1883\n",
      "Epoch 46/100\n",
      "15462/15462 [==============================] - 5s 347us/sample - loss: 3.1149\n",
      "Epoch 47/100\n",
      "15462/15462 [==============================] - 5s 355us/sample - loss: 3.0585\n",
      "Epoch 48/100\n",
      "15462/15462 [==============================] - 5s 344us/sample - loss: 2.9809\n",
      "Epoch 49/100\n",
      "15462/15462 [==============================] - 5s 350us/sample - loss: 2.9366\n",
      "Epoch 50/100\n",
      "15462/15462 [==============================] - 5s 349us/sample - loss: 2.8767\n",
      "Epoch 51/100\n",
      "15462/15462 [==============================] - 5s 346us/sample - loss: 2.8166\n",
      "Epoch 52/100\n",
      "15462/15462 [==============================] - 5s 347us/sample - loss: 2.7716\n",
      "Epoch 53/100\n",
      "15462/15462 [==============================] - 6s 364us/sample - loss: 2.7282s - loss:\n",
      "Epoch 54/100\n",
      "15462/15462 [==============================] - 5s 352us/sample - loss: 2.6790\n",
      "Epoch 55/100\n",
      "15462/15462 [==============================] - 6s 363us/sample - loss: 2.6260\n",
      "Epoch 56/100\n",
      "15462/15462 [==============================] - 6s 401us/sample - loss: 2.5694\n",
      "Epoch 57/100\n",
      "15462/15462 [==============================] - 6s 410us/sample - loss: 2.5244\n",
      "Epoch 58/100\n",
      "15462/15462 [==============================] - 6s 370us/sample - loss: 2.4779\n",
      "Epoch 59/100\n",
      "15462/15462 [==============================] - 6s 377us/sample - loss: 2.4359\n",
      "Epoch 60/100\n",
      "15462/15462 [==============================] - 6s 367us/sample - loss: 2.3906\n",
      "Epoch 61/100\n",
      "15462/15462 [==============================] - 5s 355us/sample - loss: 2.3766\n",
      "Epoch 62/100\n",
      "15462/15462 [==============================] - 6s 357us/sample - loss: 2.3068\n",
      "Epoch 63/100\n",
      "15462/15462 [==============================] - 5s 351us/sample - loss: 2.2650\n",
      "Epoch 64/100\n",
      "15462/15462 [==============================] - 6s 361us/sample - loss: 2.2374\n",
      "Epoch 65/100\n",
      "15462/15462 [==============================] - 5s 346us/sample - loss: 2.2080\n",
      "Epoch 66/100\n",
      "15462/15462 [==============================] - 5s 351us/sample - loss: 2.1805\n",
      "Epoch 67/100\n",
      "15462/15462 [==============================] - 5s 351us/sample - loss: 2.1489\n",
      "Epoch 68/100\n",
      "15462/15462 [==============================] - 5s 354us/sample - loss: 2.1021\n",
      "Epoch 69/100\n",
      "15462/15462 [==============================] - 5s 347us/sample - loss: 2.0587\n",
      "Epoch 70/100\n",
      "15462/15462 [==============================] - 5s 351us/sample - loss: 2.0472\n",
      "Epoch 71/100\n",
      "15462/15462 [==============================] - 5s 350us/sample - loss: 2.0086\n",
      "Epoch 72/100\n",
      "15462/15462 [==============================] - 5s 347us/sample - loss: 1.9813\n",
      "Epoch 73/100\n",
      "15462/15462 [==============================] - 5s 346us/sample - loss: 1.9888\n",
      "Epoch 74/100\n",
      "15462/15462 [==============================] - 5s 350us/sample - loss: 1.9161\n",
      "Epoch 75/100\n",
      "15462/15462 [==============================] - 6s 361us/sample - loss: 1.8992\n",
      "Epoch 76/100\n",
      "15462/15462 [==============================] - 6s 356us/sample - loss: 1.8694\n",
      "Epoch 77/100\n",
      "15462/15462 [==============================] - 5s 346us/sample - loss: 1.8349\n",
      "Epoch 78/100\n",
      "15462/15462 [==============================] - 6s 359us/sample - loss: 1.8188\n",
      "Epoch 79/100\n",
      "15462/15462 [==============================] - 6s 361us/sample - loss: 1.8050\n",
      "Epoch 80/100\n",
      "15462/15462 [==============================] - 6s 376us/sample - loss: 1.7684\n",
      "Epoch 81/100\n",
      "15462/15462 [==============================] - 6s 366us/sample - loss: 1.7535\n",
      "Epoch 82/100\n",
      "15462/15462 [==============================] - 6s 366us/sample - loss: 1.7458\n",
      "Epoch 83/100\n",
      "15462/15462 [==============================] - 6s 370us/sample - loss: 1.7162\n",
      "Epoch 84/100\n",
      "15462/15462 [==============================] - 6s 358us/sample - loss: 1.6938\n",
      "Epoch 85/100\n",
      "15462/15462 [==============================] - 5s 353us/sample - loss: 1.6650\n",
      "Epoch 86/100\n",
      "15462/15462 [==============================] - 6s 369us/sample - loss: 1.6514\n",
      "Epoch 87/100\n",
      "15462/15462 [==============================] - 6s 370us/sample - loss: 1.6249\n",
      "Epoch 88/100\n",
      "15462/15462 [==============================] - 6s 357us/sample - loss: 1.6180\n",
      "Epoch 89/100\n"
     ]
    },
    {
     "name": "stdout",
     "output_type": "stream",
     "text": [
      "15462/15462 [==============================] - 5s 355us/sample - loss: 1.5981\n",
      "Epoch 90/100\n",
      "15462/15462 [==============================] - 5s 351us/sample - loss: 1.5635\n",
      "Epoch 91/100\n",
      "15462/15462 [==============================] - 6s 356us/sample - loss: 1.5602\n",
      "Epoch 92/100\n",
      "15462/15462 [==============================] - 5s 353us/sample - loss: 1.5618\n",
      "Epoch 93/100\n",
      "15462/15462 [==============================] - 5s 354us/sample - loss: 1.5344\n",
      "Epoch 94/100\n",
      "15462/15462 [==============================] - 6s 361us/sample - loss: 1.5263\n",
      "Epoch 95/100\n",
      "15462/15462 [==============================] - 6s 361us/sample - loss: 1.5045\n",
      "Epoch 96/100\n",
      "15462/15462 [==============================] - 5s 352us/sample - loss: 1.4968\n",
      "Epoch 97/100\n",
      "15462/15462 [==============================] - 6s 359us/sample - loss: 1.4728\n",
      "Epoch 98/100\n",
      "15462/15462 [==============================] - 6s 361us/sample - loss: 1.4665\n",
      "Epoch 99/100\n",
      "15462/15462 [==============================] - 6s 360us/sample - loss: 1.4452\n",
      "Epoch 100/100\n",
      "15462/15462 [==============================] - 6s 364us/sample - loss: 1.4298\n"
     ]
    }
   ],
   "source": [
    "# train the model\n",
    "hist = model.fit(\n",
    "    predictors, labels,\n",
    "    epochs=100,\n",
    "    verbose=1,\n",
    "    callbacks=[reduce_rl, early_stopping]\n",
    ")"
   ]
  },
  {
   "cell_type": "markdown",
   "metadata": {},
   "source": [
    "**Show training graphs**"
   ]
  },
  {
   "cell_type": "code",
   "execution_count": 11,
   "metadata": {
    "pycharm": {
     "name": "#%%\n"
    }
   },
   "outputs": [
    {
     "data": {
      "image/png": "[encoded data removed]",
      "text/plain": [
       "<Figure size 432x288 with 1 Axes>"
      ]
     },
     "metadata": {
      "needs_background": "light"
     },
     "output_type": "display_data"
    }
   ],
   "source": [
    "def plot_graphs(history, metrics):\n",
    "    plt.figure()\n",
    "    for metric in metrics:\n",
    "        plt.plot(history.history[metric], label=metric)\n",
    "    plt.xlabel(\"Epochs\")\n",
    "    plt.legend()\n",
    "    plt.show()\n",
    "\n",
    "plot_graphs(hist, [\"loss\"])"
   ]
  },
  {
   "cell_type": "markdown",
   "metadata": {},
   "source": [
    "## Auto-generate Poems"
   ]
  },
  {
   "cell_type": "code",
   "execution_count": 12,
   "metadata": {
    "pycharm": {
     "name": "#%%\n"
    }
   },
   "outputs": [
    {
     "name": "stdout",
     "output_type": "stream",
     "text": [
      "I look into your eyes, and I can see down from clouds for love's well might one brain and skill can sit more none so much my dear friend ' grow part light rage are bide dead far new woe new day be allay'd kind ill grow still so grow than ill now made too near of care or kind needing friend ' so 'will gone new one erred hid do behold grow bright days bright cold new fired night had cold did hush the wind come crown'd the pebbled night as men had hush on every truth on to you deem'd sit tell now he forgot be grow\n"
     ]
    }
   ],
   "source": [
    "seed_text = \"I look into your eyes, and I can see\"\n",
    "next_words = 100\n",
    "\n",
    "# index to word dictionary\n",
    "reverse_word_index = dict([(value, key) for (key, value) in tokenizer.word_index.items()])\n",
    "\n",
    "for _ in range(next_words):\n",
    "    # generate sequence\n",
    "    token_list = tokenizer.texts_to_sequences([seed_text])[0]\n",
    "    # padding\n",
    "    token_list = pad_sequences([token_list], maxlen=max_len-1, padding=PAD_TYPE)\n",
    "    # predict the next word\n",
    "    predicted = model.predict(token_list)\n",
    "    predicted = int(np.argmax(predicted, axis=1).squeeze())\n",
    "    # index to word\n",
    "    output_word = reverse_word_index[predicted]\n",
    "    # add to the seed text\n",
    "    seed_text += \" \" + output_word\n",
    "\n",
    "print(seed_text)"
   ]
  }
 ],
 "metadata": {
  "kernelspec": {
   "display_name": "Python 3.7.7 64-bit ('tf2-plus': conda)",
   "language": "python",
   "name": "python37764bittf2pluscondaab7d8de0804d40f7b6e27d871405ec4e"
  },
  "language_info": {
   "codemirror_mode": {
    "name": "ipython",
    "version": 3
   },
   "file_extension": ".py",
   "mimetype": "text/x-python",
   "name": "python",
   "nbconvert_exporter": "python",
   "pygments_lexer": "ipython3",
   "version": "3.7.7"
  }
 },
 "nbformat": 4,
 "nbformat_minor": 1
}