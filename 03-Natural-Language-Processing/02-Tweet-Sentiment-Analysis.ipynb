{
 "cells": [
  {
   "cell_type": "markdown",
   "metadata": {},
   "source": [
    "# **TWEET SENTIMENT ANALYSIS**\n",
    "\n",
    "## Problem\n",
    "Classify the [tweet sentiment dataset]() (cleaned)."
   ]
  },
  {
   "cell_type": "markdown",
   "metadata": {},
   "source": [
    "## Initialize"
   ]
  },
  {
   "cell_type": "code",
   "execution_count": 1,
   "metadata": {
    "pycharm": {
     "name": "#%%\n"
    }
   },
   "outputs": [],
   "source": [
    "import os\n",
    "import io\n",
    "import warnings\n",
    "\n",
    "import numpy as np\n",
    "import pandas as pd\n",
    "import tensorflow as tf\n",
    "import tensorflow_datasets as tfds\n",
    "import matplotlib.pyplot as plt\n",
    "\n",
    "from tensorflow.keras.preprocessing.text import Tokenizer\n",
    "from tensorflow.keras.preprocessing.sequence import pad_sequences\n",
    "from tensorflow.keras.layers import Input, Embedding, Flatten, Dense, GlobalAveragePooling1D, Bidirectional, LSTM, Conv1D, MaxPooling1D, Dropout\n",
    "from tensorflow.keras.optimizers import Adam\n",
    "from tensorflow.keras.callbacks import ReduceLROnPlateau, EarlyStopping, TensorBoard"
   ]
  },
  {
   "cell_type": "code",
   "execution_count": 2,
   "metadata": {
    "pycharm": {
     "name": "#%%\n"
    }
   },
   "outputs": [],
   "source": [
    "# set random seeds\n",
    "np.random.seed(0)\n",
    "tf.random.set_seed(0)\n",
    "\n",
    "# show figures inline\n",
    "%matplotlib inline\n",
    "\n",
    "# ignore all warning (NOT recommended)\n",
    "warnings.filterwarnings(\"ignore\")"
   ]
  },
  {
   "cell_type": "markdown",
   "metadata": {},
   "source": [
    "**Global inputs**"
   ]
  },
  {
   "cell_type": "code",
   "execution_count": 3,
   "metadata": {
    "pycharm": {
     "name": "#%%\n"
    }
   },
   "outputs": [],
   "source": [
    "EMBED_DIMS = 100\n",
    "MAX_LENGTH = 120\n",
    "TRUNC_TYPE = 'post'\n",
    "PAD_TYPE = 'post'\n",
    "\n",
    "TRAIN_SPLIT = 0.8\n",
    "\n",
    "LOG_DIR = '02-logs'\n",
    "PROBLEM = 'twitter'"
   ]
  },
  {
   "cell_type": "markdown",
   "metadata": {},
   "source": [
    "## Dataset\n",
    "**Get the dataset**"
   ]
  },
  {
   "cell_type": "code",
   "execution_count": 4,
   "metadata": {
    "pycharm": {
     "name": "#%%\n"
    }
   },
   "outputs": [
    {
     "data": {
      "text/html": [
       "<div>\n",
       "<style scoped>\n",
       "    .dataframe tbody tr th:only-of-type {\n",
       "        vertical-align: middle;\n",
       "    }\n",
       "\n",
       "    .dataframe tbody tr th {\n",
       "        vertical-align: top;\n",
       "    }\n",
       "\n",
       "    .dataframe thead th {\n",
       "        text-align: right;\n",
       "    }\n",
       "</style>\n",
       "<table border=\"1\" class=\"dataframe\">\n",
       "  <thead>\n",
       "    <tr style=\"text-align: right;\">\n",
       "      <th></th>\n",
       "      <th>0</th>\n",
       "      <th>1467810369</th>\n",
       "      <th>Mon Apr 06 22:19:45 PDT 2009</th>\n",
       "      <th>NO_QUERY</th>\n",
       "      <th>_TheSpecialOne_</th>\n",
       "      <th>@switchfoot http://twitpic.com/2y1zl - Awww, that's a bummer.  You shoulda got David Carr of Third Day to do it. ;D</th>\n",
       "    </tr>\n",
       "  </thead>\n",
       "  <tbody>\n",
       "    <tr>\n",
       "      <th>0</th>\n",
       "      <td>0</td>\n",
       "      <td>1467810672</td>\n",
       "      <td>Mon Apr 06 22:19:49 PDT 2009</td>\n",
       "      <td>NO_QUERY</td>\n",
       "      <td>scotthamilton</td>\n",
       "      <td>is upset that he can't update his Facebook by ...</td>\n",
       "    </tr>\n",
       "    <tr>\n",
       "      <th>1</th>\n",
       "      <td>0</td>\n",
       "      <td>1467810917</td>\n",
       "      <td>Mon Apr 06 22:19:53 PDT 2009</td>\n",
       "      <td>NO_QUERY</td>\n",
       "      <td>mattycus</td>\n",
       "      <td>@Kenichan I dived many times for the ball. Man...</td>\n",
       "    </tr>\n",
       "    <tr>\n",
       "      <th>2</th>\n",
       "      <td>0</td>\n",
       "      <td>1467811184</td>\n",
       "      <td>Mon Apr 06 22:19:57 PDT 2009</td>\n",
       "      <td>NO_QUERY</td>\n",
       "      <td>ElleCTF</td>\n",
       "      <td>my whole body feels itchy and like its on fire</td>\n",
       "    </tr>\n",
       "    <tr>\n",
       "      <th>3</th>\n",
       "      <td>0</td>\n",
       "      <td>1467811193</td>\n",
       "      <td>Mon Apr 06 22:19:57 PDT 2009</td>\n",
       "      <td>NO_QUERY</td>\n",
       "      <td>Karoli</td>\n",
       "      <td>@nationwideclass no, it's not behaving at all....</td>\n",
       "    </tr>\n",
       "    <tr>\n",
       "      <th>4</th>\n",
       "      <td>0</td>\n",
       "      <td>1467811372</td>\n",
       "      <td>Mon Apr 06 22:20:00 PDT 2009</td>\n",
       "      <td>NO_QUERY</td>\n",
       "      <td>joy_wolf</td>\n",
       "      <td>@Kwesidei not the whole crew</td>\n",
       "    </tr>\n",
       "  </tbody>\n",
       "</table>\n",
       "</div>"
      ],
      "text/plain": [
       "   0  1467810369  Mon Apr 06 22:19:45 PDT 2009  NO_QUERY _TheSpecialOne_  \\\n",
       "0  0  1467810672  Mon Apr 06 22:19:49 PDT 2009  NO_QUERY   scotthamilton   \n",
       "1  0  1467810917  Mon Apr 06 22:19:53 PDT 2009  NO_QUERY        mattycus   \n",
       "2  0  1467811184  Mon Apr 06 22:19:57 PDT 2009  NO_QUERY         ElleCTF   \n",
       "3  0  1467811193  Mon Apr 06 22:19:57 PDT 2009  NO_QUERY          Karoli   \n",
       "4  0  1467811372  Mon Apr 06 22:20:00 PDT 2009  NO_QUERY        joy_wolf   \n",
       "\n",
       "  @switchfoot http://twitpic.com/2y1zl - Awww, that's a bummer.  You shoulda got David Carr of Third Day to do it. ;D  \n",
       "0  is upset that he can't update his Facebook by ...                                                                   \n",
       "1  @Kenichan I dived many times for the ball. Man...                                                                   \n",
       "2    my whole body feels itchy and like its on fire                                                                    \n",
       "3  @nationwideclass no, it's not behaving at all....                                                                   \n",
       "4                      @Kwesidei not the whole crew                                                                    "
      ]
     },
     "execution_count": 4,
     "metadata": {},
     "output_type": "execute_result"
    }
   ],
   "source": [
    "data_url = 'https://storage.googleapis.com/laurencemoroney-blog.appspot.com/training_cleaned.csv'\n",
    "path_out = '../.tmp/training_cleaned.csv'\n",
    "\n",
    "# download the dataset\n",
    "if not os.path.exists(path_out):\n",
    "    os.system(f\"\"\"wget --no-check-certificate {data_url} -O {path_out}\"\"\")\n",
    "\n",
    "# read the csv file\n",
    "df = pd.read_csv(path_out)\n",
    "\n",
    "df.head()"
   ]
  },
  {
   "cell_type": "markdown",
   "metadata": {},
   "source": [
    "**Data preparation**"
   ]
  },
  {
   "cell_type": "code",
   "execution_count": 5,
   "metadata": {
    "pycharm": {
     "name": "#%%\n"
    }
   },
   "outputs": [
    {
     "name": "stdout",
     "output_type": "stream",
     "text": [
      "shape - sentences: (1599999,), (1599999,)\n",
      "unique labels - {0, 4}, total: 2\n"
     ]
    }
   ],
   "source": [
    "# extract the columns\n",
    "sentences = df.iloc[:, 5].to_numpy()\n",
    "labels = df.iloc[:, 0].to_numpy()\n",
    "\n",
    "# number of unique labels\n",
    "class_names = set(labels)\n",
    "\n",
    "# examine the dataset\n",
    "print(f'shape - sentences: {sentences.shape}, {labels.shape}')\n",
    "print(f'unique labels - {class_names}, total: {len(class_names)}')"
   ]
  },
  {
   "cell_type": "markdown",
   "metadata": {},
   "source": [
    "**Shuffle and split**"
   ]
  },
  {
   "cell_type": "code",
   "execution_count": 6,
   "metadata": {
    "pycharm": {
     "name": "#%%\n"
    }
   },
   "outputs": [],
   "source": [
    "# get randomly shuffled indices\n",
    "idc = np.arange(len(sentences))\n",
    "np.random.shuffle(idc)\n",
    "\n",
    "# shuffle the dataset\n",
    "sentences = sentences[idc]\n",
    "labels = labels[idc]"
   ]
  },
  {
   "cell_type": "code",
   "execution_count": 7,
   "metadata": {
    "pycharm": {
     "name": "#%%\n"
    }
   },
   "outputs": [
    {
     "name": "stdout",
     "output_type": "stream",
     "text": [
      "training samples: 1279999\n",
      "validation samples: 320000\n"
     ]
    }
   ],
   "source": [
    "# number of training samples\n",
    "num_train = int(TRAIN_SPLIT *  len(sentences))\n",
    "\n",
    "# training subset\n",
    "train_sentences = sentences[:num_train]\n",
    "train_labels = labels[:num_train]\n",
    "\n",
    "# validation subset\n",
    "validation_sentences = sentences[num_train:]\n",
    "validation_labels = labels[num_train:]\n",
    "\n",
    "# check the size\n",
    "print(f'training samples: {len(train_sentences)}')\n",
    "print(f'validation samples: {len(validation_sentences)}')"
   ]
  },
  {
   "cell_type": "markdown",
   "metadata": {},
   "source": [
    "## Pre-processing\n",
    "\n",
    "**Training data**"
   ]
  },
  {
   "cell_type": "code",
   "execution_count": 8,
   "metadata": {
    "pycharm": {
     "name": "#%%\n"
    }
   },
   "outputs": [
    {
     "name": "stdout",
     "output_type": "stream",
     "text": [
      "(1279999, 120)\n"
     ]
    }
   ],
   "source": [
    "# initiate a tokenizer\n",
    "tokenizer = Tokenizer(oov_token='<OOV>')\n",
    "# update the vocabulary on training texts\n",
    "tokenizer.fit_on_texts(train_sentences)\n",
    "\n",
    "# vocabulary\n",
    "word_index = tokenizer.word_index\n",
    "vocab_size = len(word_index)\n",
    "\n",
    "# get sequences\n",
    "train_sequences = tokenizer.texts_to_sequences(train_sentences)\n",
    "# padding\n",
    "train_padded = pad_sequences(train_sequences, padding=PAD_TYPE, maxlen=MAX_LENGTH, truncating=TRUNC_TYPE)\n",
    "\n",
    "print(train_padded.shape)"
   ]
  },
  {
   "cell_type": "markdown",
   "metadata": {},
   "source": [
    "**Validation data**"
   ]
  },
  {
   "cell_type": "code",
   "execution_count": 9,
   "metadata": {
    "pycharm": {
     "name": "#%%\n"
    }
   },
   "outputs": [
    {
     "name": "stdout",
     "output_type": "stream",
     "text": [
      "(320000, 120)\n"
     ]
    }
   ],
   "source": [
    "# get sequences\n",
    "validation_sequences = tokenizer.texts_to_sequences(validation_sentences)\n",
    "# padding\n",
    "validation_padded = pad_sequences(validation_sequences, padding=PAD_TYPE, maxlen=MAX_LENGTH, truncating=TRUNC_TYPE)\n",
    "\n",
    "print(validation_padded.shape)"
   ]
  },
  {
   "cell_type": "markdown",
   "metadata": {},
   "source": [
    "**Labels**"
   ]
  },
  {
   "cell_type": "code",
   "execution_count": 10,
   "metadata": {
    "pycharm": {
     "name": "#%%\n"
    }
   },
   "outputs": [
    {
     "name": "stdout",
     "output_type": "stream",
     "text": [
      "[0 0 1 0 0] ... (1279999,)\n"
     ]
    }
   ],
   "source": [
    "# convert to binary\n",
    "training_label_seq = np.array(train_labels == 0, int)\n",
    "validation_label_seq = np.array(validation_labels == 0, int)\n",
    "\n",
    "# see some example\n",
    "print(training_label_seq[:5], '...', training_label_seq.shape)"
   ]
  },
  {
   "cell_type": "markdown",
   "metadata": {},
   "source": [
    "## Pre-trained Embeddings\n",
    "\n",
    "**GloVe**\n",
    "([See more](https://nlp.stanford.edu/projects/glove/))\n"
   ]
  },
  {
   "cell_type": "code",
   "execution_count": 11,
   "metadata": {
    "pycharm": {
     "name": "#%%\n"
    }
   },
   "outputs": [
    {
     "name": "stdout",
     "output_type": "stream",
     "text": [
      "(594792, 100)\n"
     ]
    }
   ],
   "source": [
    "data_url = 'https://storage.googleapis.com/laurencemoroney-blog.appspot.com/glove.6B.100d.txt'\n",
    "path_out = '../.tmp/glove.6B.100d.txt'\n",
    "save_mat = LOG_DIR + '/' + PROBLEM + '-glove_embedding.npy'\n",
    "\n",
    "# download the dataset\n",
    "if not os.path.exists(path_out):\n",
    "    os.system(f\"\"\"wget --no-check-certificate {data_url} -O {path_out}\"\"\")\n",
    "\n",
    "if os.path.exists(save_mat):\n",
    "    embeddings_matrix = np.load(save_mat)\n",
    "else:\n",
    "    embeddings_index = {}\n",
    "    with open(path_out, 'r', encoding='utf8') as f:\n",
    "        for line in f:\n",
    "            values = line.split()\n",
    "            word = values[0]\n",
    "            coefs = np.asarray(values[1:], dtype='float32')\n",
    "            embeddings_index[word] = coefs\n",
    "\n",
    "    embeddings_matrix = np.zeros((vocab_size+1, EMBED_DIMS))\n",
    "    for word, i in tokenizer.word_index.items():\n",
    "        embedding_vector = embeddings_index.get(word)\n",
    "        if embedding_vector is not None:\n",
    "            embeddings_matrix[i] = embedding_vector\n",
    "\n",
    "    np.save(save_mat, embeddings_matrix)\n",
    "\n",
    "# pre-trained embeddings\n",
    "print(embeddings_matrix.shape)"
   ]
  },
  {
   "cell_type": "markdown",
   "metadata": {},
   "source": [
    "## Model"
   ]
  },
  {
   "cell_type": "code",
   "execution_count": 12,
   "metadata": {
    "pycharm": {
     "name": "#%%\n"
    }
   },
   "outputs": [
    {
     "name": "stdout",
     "output_type": "stream",
     "text": [
      "Model: \"model\"\n",
      "_________________________________________________________________\n",
      "Layer (type)                 Output Shape              Param #   \n",
      "=================================================================\n",
      "input_1 (InputLayer)         [(None, 120)]             0         \n",
      "_________________________________________________________________\n",
      "embedding (Embedding)        (None, 120, 100)          59479200  \n",
      "_________________________________________________________________\n",
      "dropout (Dropout)            (None, 120, 100)          0         \n",
      "_________________________________________________________________\n",
      "conv1d (Conv1D)              (None, 116, 64)           32064     \n",
      "_________________________________________________________________\n",
      "max_pooling1d (MaxPooling1D) (None, 29, 64)            0         \n",
      "_________________________________________________________________\n",
      "lstm (LSTM)                  (None, 64)                33024     \n",
      "_________________________________________________________________\n",
      "dense (Dense)                (None, 1)                 65        \n",
      "=================================================================\n",
      "Total params: 59,544,353\n",
      "Trainable params: 65,153\n",
      "Non-trainable params: 59,479,200\n",
      "_________________________________________________________________\n"
     ]
    }
   ],
   "source": [
    "# input layer\n",
    "input_tensor = Input(shape=MAX_LENGTH)\n",
    "\n",
    "# pre-trained embedding layer\n",
    "x = Embedding(\n",
    "    input_dim=embeddings_matrix.shape[0],\n",
    "    output_dim=embeddings_matrix.shape[1],\n",
    "    input_length=MAX_LENGTH,\n",
    "    weights=[embeddings_matrix],\n",
    "    trainable=False\n",
    ")(input_tensor)\n",
    "\n",
    "# hidden layers\n",
    "x = Dropout(0.2)(x)\n",
    "x = Conv1D(64, 5, activation='relu')(x)\n",
    "x = MaxPooling1D(pool_size=4)(x)\n",
    "x = LSTM(64)(x)\n",
    "\n",
    "# output layer\n",
    "output_tensor = Dense(1, activation='sigmoid')(x)\n",
    "\n",
    "# model\n",
    "model = tf.keras.Model(input_tensor, output_tensor)\n",
    "\n",
    "# compile\n",
    "model.compile(\n",
    "    optimizer=Adam(),\n",
    "    loss='binary_crossentropy',\n",
    "    metrics=['acc']\n",
    ")\n",
    "\n",
    "# model summary\n",
    "model.summary()"
   ]
  },
  {
   "cell_type": "markdown",
   "metadata": {},
   "source": [
    "## Train\n",
    "\n",
    "**Callbacks**"
   ]
  },
  {
   "cell_type": "code",
   "execution_count": 13,
   "metadata": {
    "pycharm": {
     "name": "#%%\n"
    }
   },
   "outputs": [],
   "source": [
    "# reduce learning rate\n",
    "reduce_rl = ReduceLROnPlateau(\n",
    "    monitor='val_acc', mode='max', factor=0.1, patience=3, verbose=2\n",
    ")\n",
    "\n",
    "# stop training\n",
    "early_stopping = EarlyStopping(\n",
    "    monitor='val_acc',  mode='max', min_delta=0, patience=10, verbose=2, restore_best_weights=True\n",
    ")"
   ]
  },
  {
   "cell_type": "markdown",
   "metadata": {},
   "source": [
    "**Start Training**"
   ]
  },
  {
   "cell_type": "code",
   "execution_count": 14,
   "metadata": {
    "pycharm": {
     "name": "#%%\n"
    }
   },
   "outputs": [
    {
     "name": "stdout",
     "output_type": "stream",
     "text": [
      "Train on 1279999 samples, validate on 320000 samples\n",
      "Epoch 1/50\n",
      "1279999/1279999 [==============================] - 66s 52us/sample - loss: 0.5948 - acc: 0.6732 - val_loss: 0.5203 - val_acc: 0.7394\n",
      "Epoch 2/50\n",
      "1279999/1279999 [==============================] - 56s 43us/sample - loss: 0.5270 - acc: 0.7337 - val_loss: 0.4959 - val_acc: 0.7565\n",
      "Epoch 3/50\n",
      "1279999/1279999 [==============================] - 56s 44us/sample - loss: 0.5089 - acc: 0.7471 - val_loss: 0.4914 - val_acc: 0.7591\n",
      "Epoch 4/50\n",
      "1279999/1279999 [==============================] - 51s 40us/sample - loss: 0.4978 - acc: 0.7549 - val_loss: 0.4789 - val_acc: 0.7680\n",
      "Epoch 5/50\n",
      "1279999/1279999 [==============================] - 51s 40us/sample - loss: 0.4913 - acc: 0.7595 - val_loss: 0.4698 - val_acc: 0.7746\n",
      "Epoch 6/50\n",
      "1279999/1279999 [==============================] - 51s 40us/sample - loss: 0.4855 - acc: 0.7637 - val_loss: 0.4658 - val_acc: 0.7767\n",
      "Epoch 7/50\n",
      "1279999/1279999 [==============================] - 51s 40us/sample - loss: 0.4813 - acc: 0.7662 - val_loss: 0.4617 - val_acc: 0.7799\n",
      "Epoch 8/50\n",
      "1279999/1279999 [==============================] - 51s 40us/sample - loss: 0.4775 - acc: 0.7690 - val_loss: 0.4577 - val_acc: 0.7823\n",
      "Epoch 9/50\n",
      "1279999/1279999 [==============================] - 51s 40us/sample - loss: 0.4734 - acc: 0.7712 - val_loss: 0.4573 - val_acc: 0.7814\n",
      "Epoch 10/50\n",
      "1279999/1279999 [==============================] - 51s 40us/sample - loss: 0.4711 - acc: 0.7735 - val_loss: 0.4529 - val_acc: 0.7842\n",
      "Epoch 11/50\n",
      "1279999/1279999 [==============================] - 51s 40us/sample - loss: 0.4689 - acc: 0.7744 - val_loss: 0.4498 - val_acc: 0.7869\n",
      "Epoch 12/50\n",
      "1279999/1279999 [==============================] - 51s 40us/sample - loss: 0.4659 - acc: 0.7763 - val_loss: 0.4485 - val_acc: 0.7875\n",
      "Epoch 13/50\n",
      "1279999/1279999 [==============================] - 51s 40us/sample - loss: 0.4645 - acc: 0.7775 - val_loss: 0.4501 - val_acc: 0.7861\n",
      "Epoch 14/50\n",
      "1279999/1279999 [==============================] - 51s 40us/sample - loss: 0.4630 - acc: 0.7783 - val_loss: 0.4444 - val_acc: 0.7900\n",
      "Epoch 15/50\n",
      "1279999/1279999 [==============================] - 50s 39us/sample - loss: 0.4608 - acc: 0.7798 - val_loss: 0.4437 - val_acc: 0.7904\n",
      "Epoch 16/50\n",
      "1279999/1279999 [==============================] - 50s 39us/sample - loss: 0.4593 - acc: 0.7807 - val_loss: 0.4466 - val_acc: 0.7887\n",
      "Epoch 17/50\n",
      "1279999/1279999 [==============================] - 50s 39us/sample - loss: 0.4578 - acc: 0.7813 - val_loss: 0.4433 - val_acc: 0.7910\n",
      "Epoch 18/50\n",
      "1279999/1279999 [==============================] - 50s 39us/sample - loss: 0.4573 - acc: 0.7818 - val_loss: 0.4411 - val_acc: 0.7922\n",
      "Epoch 19/50\n",
      "1279999/1279999 [==============================] - 50s 39us/sample - loss: 0.4550 - acc: 0.7837 - val_loss: 0.4388 - val_acc: 0.7940\n",
      "Epoch 20/50\n",
      "1279999/1279999 [==============================] - 50s 39us/sample - loss: 0.4545 - acc: 0.7834 - val_loss: 0.4374 - val_acc: 0.7948\n",
      "Epoch 21/50\n",
      "1279999/1279999 [==============================] - 50s 39us/sample - loss: 0.4521 - acc: 0.7851 - val_loss: 0.4403 - val_acc: 0.7926\n",
      "Epoch 22/50\n",
      "1279999/1279999 [==============================] - 50s 39us/sample - loss: 0.4523 - acc: 0.7852 - val_loss: 0.4389 - val_acc: 0.7935\n",
      "Epoch 23/50\n",
      "1279999/1279999 [==============================] - 50s 39us/sample - loss: 0.4512 - acc: 0.7858 - val_loss: 0.4352 - val_acc: 0.7958\n",
      "Epoch 24/50\n",
      "1279999/1279999 [==============================] - 50s 39us/sample - loss: 0.4501 - acc: 0.7860 - val_loss: 0.4405 - val_acc: 0.7930\n",
      "Epoch 25/50\n",
      "1279999/1279999 [==============================] - 50s 39us/sample - loss: 0.4496 - acc: 0.7868 - val_loss: 0.4367 - val_acc: 0.7948\n",
      "Epoch 26/50\n",
      "1279999/1279999 [==============================] - 50s 39us/sample - loss: 0.4487 - acc: 0.7872 - val_loss: 0.4340 - val_acc: 0.7966\n",
      "Epoch 27/50\n",
      "1279999/1279999 [==============================] - 53s 41us/sample - loss: 0.4482 - acc: 0.7875 - val_loss: 0.4332 - val_acc: 0.7974\n",
      "Epoch 28/50\n",
      "1279999/1279999 [==============================] - 53s 42us/sample - loss: 0.4475 - acc: 0.7876 - val_loss: 0.4340 - val_acc: 0.7976\n",
      "Epoch 29/50\n",
      "1279999/1279999 [==============================] - 50s 39us/sample - loss: 0.4466 - acc: 0.7888 - val_loss: 0.4325 - val_acc: 0.7975\n",
      "Epoch 30/50\n",
      "1279999/1279999 [==============================] - 50s 39us/sample - loss: 0.4456 - acc: 0.7892 - val_loss: 0.4312 - val_acc: 0.7983\n",
      "Epoch 31/50\n",
      "1279999/1279999 [==============================] - 50s 39us/sample - loss: 0.4455 - acc: 0.7891 - val_loss: 0.4308 - val_acc: 0.7983\n",
      "Epoch 32/50\n",
      "1279999/1279999 [==============================] - 49s 39us/sample - loss: 0.4447 - acc: 0.7895 - val_loss: 0.4307 - val_acc: 0.7983\n",
      "Epoch 33/50\n",
      "1279999/1279999 [==============================] - 50s 39us/sample - loss: 0.4445 - acc: 0.7896 - val_loss: 0.4300 - val_acc: 0.7987\n",
      "Epoch 34/50\n",
      "1279999/1279999 [==============================] - 50s 39us/sample - loss: 0.4441 - acc: 0.7901 - val_loss: 0.4304 - val_acc: 0.7982\n",
      "Epoch 35/50\n",
      "1279999/1279999 [==============================] - 50s 39us/sample - loss: 0.4434 - acc: 0.7903 - val_loss: 0.4310 - val_acc: 0.7991\n",
      "Epoch 36/50\n",
      "1279999/1279999 [==============================] - 50s 39us/sample - loss: 0.4422 - acc: 0.7914 - val_loss: 0.4284 - val_acc: 0.7998\n",
      "Epoch 37/50\n",
      "1279999/1279999 [==============================] - 50s 39us/sample - loss: 0.4422 - acc: 0.7911 - val_loss: 0.4277 - val_acc: 0.7999\n",
      "Epoch 38/50\n",
      "1279999/1279999 [==============================] - 50s 39us/sample - loss: 0.4420 - acc: 0.7912 - val_loss: 0.4287 - val_acc: 0.7996\n",
      "Epoch 39/50\n",
      "1279999/1279999 [==============================] - 50s 39us/sample - loss: 0.4413 - acc: 0.7917 - val_loss: 0.4276 - val_acc: 0.8000\n",
      "Epoch 40/50\n",
      "1279999/1279999 [==============================] - 50s 39us/sample - loss: 0.4410 - acc: 0.7917 - val_loss: 0.4295 - val_acc: 0.7985\n",
      "Epoch 41/50\n",
      "1279999/1279999 [==============================] - 50s 39us/sample - loss: 0.4396 - acc: 0.7927 - val_loss: 0.4274 - val_acc: 0.8003\n",
      "Epoch 42/50\n",
      "1279999/1279999 [==============================] - 50s 39us/sample - loss: 0.4398 - acc: 0.7920 - val_loss: 0.4264 - val_acc: 0.8007\n",
      "Epoch 43/50\n",
      "1279999/1279999 [==============================] - 50s 39us/sample - loss: 0.4397 - acc: 0.7926 - val_loss: 0.4282 - val_acc: 0.8003\n",
      "Epoch 44/50\n",
      "1279999/1279999 [==============================] - 50s 39us/sample - loss: 0.4391 - acc: 0.7928 - val_loss: 0.4260 - val_acc: 0.8006\n",
      "Epoch 45/50\n",
      "1279999/1279999 [==============================] - 50s 39us/sample - loss: 0.4387 - acc: 0.7932 - val_loss: 0.4254 - val_acc: 0.8012\n",
      "Epoch 46/50\n",
      "1279999/1279999 [==============================] - 49s 39us/sample - loss: 0.4383 - acc: 0.7934 - val_loss: 0.4274 - val_acc: 0.8010\n",
      "Epoch 47/50\n",
      "1279999/1279999 [==============================] - 50s 39us/sample - loss: 0.4377 - acc: 0.7936 - val_loss: 0.4251 - val_acc: 0.8019\n",
      "Epoch 48/50\n",
      "1279999/1279999 [==============================] - 50s 39us/sample - loss: 0.4373 - acc: 0.7939 - val_loss: 0.4262 - val_acc: 0.8012\n",
      "Epoch 49/50\n",
      "1279999/1279999 [==============================] - 50s 39us/sample - loss: 0.4372 - acc: 0.7941 - val_loss: 0.4254 - val_acc: 0.8018\n",
      "Epoch 50/50\n",
      "1279999/1279999 [==============================] - 2083s 2ms/sample - loss: 0.4369 - acc: 0.7945 - val_loss: 0.4245 - val_acc: 0.8020\n"
     ]
    }
   ],
   "source": [
    "# train the model\n",
    "hist = model.fit(\n",
    "    train_padded, training_label_seq,\n",
    "    batch_size=10_000,\n",
    "    validation_data=(validation_padded, validation_label_seq),\n",
    "    epochs=50,\n",
    "    verbose=1,\n",
    "    callbacks=[reduce_rl, early_stopping]\n",
    ")"
   ]
  },
  {
   "cell_type": "markdown",
   "metadata": {},
   "source": [
    "**Show training graphs**"
   ]
  },
  {
   "cell_type": "code",
   "execution_count": 15,
   "metadata": {
    "pycharm": {
     "name": "#%%\n"
    }
   },
   "outputs": [
    {
     "data": {
      "image/png": "[encoded data removed]",
      "text/plain": [
       "<Figure size 432x288 with 1 Axes>"
      ]
     },
     "metadata": {
      "needs_background": "light"
     },
     "output_type": "display_data"
    },
    {
     "data": {
      "image/png": "[encoded data removed]",
      "text/plain": [
       "<Figure size 432x288 with 1 Axes>"
      ]
     },
     "metadata": {
      "needs_background": "light"
     },
     "output_type": "display_data"
    }
   ],
   "source": [
    "def plot_graphs(history, metrics):\n",
    "    plt.figure()\n",
    "    for metric in metrics:\n",
    "        plt.plot(history.history[metric], label=metric)\n",
    "    plt.xlabel(\"Epochs\")\n",
    "    plt.legend()\n",
    "    plt.show()\n",
    "\n",
    "plot_graphs(hist, [\"acc\", \"val_acc\"])\n",
    "plot_graphs(hist, [\"loss\", \"val_loss\"])"
   ]
  },
  {
   "cell_type": "markdown",
   "metadata": {},
   "source": [
    "## Save Learned Embeddings\n",
    "\n",
    "**Vector and metadata**"
   ]
  },
  {
   "cell_type": "code",
   "execution_count": 16,
   "metadata": {
    "pycharm": {
     "name": "#%%\n"
    }
   },
   "outputs": [],
   "source": [
    "# index to word dictionary\n",
    "reverse_word_index = dict([(value, key) for (key, value) in tokenizer.word_index.items()])\n",
    "\n",
    "# get the weights in the embedding layers\n",
    "weights = model.layers[1].get_weights()[0]\n",
    "\n",
    "out_v = io.open(LOG_DIR + '/' + PROBLEM + '-vecs.tsv', 'w', encoding='utf-8')\n",
    "out_m = io.open(LOG_DIR + '/' + PROBLEM + '-meta.tsv', 'w', encoding='utf-8')\n",
    "\n",
    "for word_num in range(1, vocab_size):\n",
    "    word = reverse_word_index[word_num]\n",
    "    embeddings = weights[word_num]\n",
    "    out_m.write(word + \"\\n\")\n",
    "    out_v.write('\\t'.join([str(x) for x in embeddings]) + \"\\n\")\n",
    "\n",
    "out_v.close()\n",
    "out_m.close()"
   ]
  },
  {
   "cell_type": "markdown",
   "metadata": {},
   "source": [
    "**Visualize**\n",
    "- Go to [tensorflor embedding projector](http://projector.tensorflow.org/).\n",
    "- Upload the `vecs.tsv` and `meta.tsv` files and see the embeddings."
   ]
  }
 ],
 "metadata": {
  "kernelspec": {
   "display_name": "Python 3.7.7 64-bit ('tf2-plus': conda)",
   "language": "python",
   "name": "python37764bittf2pluscondaab7d8de0804d40f7b6e27d871405ec4e"
  },
  "language_info": {
   "codemirror_mode": {
    "name": "ipython",
    "version": 3
   },
   "file_extension": ".py",
   "mimetype": "text/x-python",
   "name": "python",
   "nbconvert_exporter": "python",
   "pygments_lexer": "ipython3",
   "version": "3.7.7"
  }
 },
 "nbformat": 4,
 "nbformat_minor": 2
}