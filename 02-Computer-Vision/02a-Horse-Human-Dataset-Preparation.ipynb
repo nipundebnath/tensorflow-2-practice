{
 "cells": [
  {
   "cell_type": "markdown",
   "metadata": {
    "collapsed": true,
    "pycharm": {
     "name": "#%% md\n"
    }
   },
   "source": [
    "# **CONVOLUTIONAL NEURAL NETWORK (CNN)**\n",
    "\n",
    "## Problem\n",
    "\n",
    "Train a CNN on the [horses-or-humans dataset](http://www.laurencemoroney.com/horses-or-humans-dataset/).\n",
    "\n",
    "Note: Dataset is not divided into train-test subsets. Needs pre-processing."
   ]
  },
  {
   "cell_type": "markdown",
   "metadata": {},
   "source": [
    "## Initialize"
   ]
  },
  {
   "cell_type": "code",
   "execution_count": 1,
   "metadata": {
    "pycharm": {
     "name": "#%%\n"
    }
   },
   "outputs": [],
   "source": [
    "import os\n",
    "import zipfile\n",
    "import shutil\n",
    "\n",
    "import numpy as np"
   ]
  },
  {
   "cell_type": "code",
   "execution_count": 2,
   "metadata": {
    "pycharm": {
     "name": "#%%\n"
    }
   },
   "outputs": [],
   "source": [
    "# set random seeds\n",
    "np.random.seed(0)"
   ]
  },
  {
   "cell_type": "markdown",
   "metadata": {},
   "source": [
    "## Dataset\n",
    "\n",
    "**Helper functions**"
   ]
  },
  {
   "cell_type": "code",
   "execution_count": 3,
   "metadata": {
    "pycharm": {
     "name": "#%%\n"
    }
   },
   "outputs": [],
   "source": [
    "def download_zip_file(data_url, name_zip, download_dir, unzip_dir):\n",
    "    \"\"\"\n",
    "    Download and unzip a file\n",
    "    :param data_url     : URL to download the dataset\n",
    "    :param name_zip     : name of the .zip file\n",
    "    :param download_dir : directory to download the file\n",
    "    :param unzip_dir    : directory to unzip the files\n",
    "    \"\"\"\n",
    "\n",
    "    # if already there, do nothing and return\n",
    "    if os.path.exists(unzip_dir):\n",
    "        return\n",
    "\n",
    "    # create the download directory if not exists\n",
    "    if not os.path.exists(download_dir):\n",
    "        os.makedirs(download_dir, exist_ok=True)\n",
    "\n",
    "    # download path for the zip file\n",
    "    path_zip = os.path.join(download_dir, name_zip)\n",
    "\n",
    "    # download the dataset\n",
    "    os.system(f\"\"\"wget --no-check-certificate {data_url}{name_zip} -O {path_zip}\"\"\")\n",
    "    print(f\"'{name_zip}' downloaded to '{download_dir}'\")\n",
    "\n",
    "    # unzip the file\n",
    "    zip_ref = zipfile.ZipFile(path_zip, 'r')\n",
    "    zip_ref.extractall(unzip_dir)\n",
    "    zip_ref.close()\n",
    "    print(f\"'{name_zip}' extracted to '{unzip_dir}'\")"
   ]
  },
  {
   "cell_type": "code",
   "execution_count": 4,
   "metadata": {},
   "outputs": [],
   "source": [
    "def file_structure(root_dir):\n",
    "    \"\"\"\n",
    "    See file structures in the 'root_dir'\n",
    "    \"\"\"\n",
    "    for root, dirs, files in os.walk(root_dir):\n",
    "        level = root.replace(root_dir, '').count(os.sep)\n",
    "        indent = ' ' * 4 * level\n",
    "        print(f'{indent}{os.path.basename(root)}/')\n",
    "        subindent = ' ' * 4 * (level + 1)\n",
    "        for i, f in enumerate(files):\n",
    "            print(f'{subindent}{f}')\n",
    "            if i >= 2:\n",
    "                print(f'{subindent}....(total {len(files)} files)')\n",
    "                break"
   ]
  },
  {
   "cell_type": "code",
   "execution_count": 5,
   "metadata": {
    "pycharm": {
     "name": "#%%\n"
    }
   },
   "outputs": [],
   "source": [
    "def split_dataset(\n",
    "        dir_source,\n",
    "        dir_train,\n",
    "        dir_valid=None,\n",
    "        dir_test=None,\n",
    "        valid_ratio=0.,\n",
    "        test_ratio=0.\n",
    "):\n",
    "    \"\"\"\n",
    "    Reads the files available in 'dir_source'.\n",
    "    Splits it by 'valid_ratio' (valid to total ratio), and\n",
    "         'testratio' (test to total ratio).\n",
    "    Puts the training, validation and testing files\n",
    "         in 'dir_train', 'dir_valid' and 'dir_test' folders,\n",
    "         respectively.\n",
    "    \"\"\"\n",
    "\n",
    "    # get all the filenames in source folder\n",
    "    filenames = []\n",
    "    for fn in os.listdir(dir_source):\n",
    "        filepath = f'{dir_source}/{fn}'\n",
    "        # if file's size >0, append to the list\n",
    "        if os.path.getsize(filepath) > 0:\n",
    "            filenames.append(fn)\n",
    "        else:\n",
    "            print(f\"Size of '{fn}' is zero. So, ignored.\")\n",
    "\n",
    "    # determine the size of the subsets\n",
    "    num_valid = int(len(filenames) * valid_ratio)\n",
    "    num_test = int(len(filenames) * test_ratio)\n",
    "    num_train = len(filenames) - num_valid - num_test\n",
    "\n",
    "    # randomly shuffle the file names\n",
    "    np.random.shuffle(filenames)\n",
    "\n",
    "    # function for copying all files\n",
    "    def copy_all_files(src, dst, file_names):\n",
    "        for file in file_names:\n",
    "            _src_ = os.path.join(src, file)\n",
    "            _dst_ = os.path.join(dst, file)\n",
    "            shutil.copyfile(_src_, _dst_)\n",
    "\n",
    "    #--- training subset ---#\n",
    "    # make directory. if already there, raise an error\n",
    "    os.makedirs(dir_train, exist_ok=False)\n",
    "    # training files\n",
    "    train_files = filenames[:num_train]\n",
    "    # copy training files\n",
    "    copy_all_files(dir_source, dir_train, train_files)\n",
    "\n",
    "    #--- validation subset ---#\n",
    "    if dir_valid:\n",
    "        # make directory. if already there, raise an error\n",
    "        os.makedirs(dir_valid, exist_ok=False)\n",
    "        # validation files\n",
    "        valid_files = filenames[num_train:num_train+num_valid]\n",
    "        # copy validation files\n",
    "        copy_all_files(dir_source, dir_valid, valid_files)\n",
    "\n",
    "    #--- testing subset ---#\n",
    "    if dir_test:\n",
    "        # make directory. if already there, raise an error\n",
    "        os.makedirs(dir_test, exist_ok=False)\n",
    "        # testing files\n",
    "        test_files = filenames[num_train+num_valid:]\n",
    "        # copy test files\n",
    "        copy_all_files(dir_source, dir_test, test_files)"
   ]
  },
  {
   "cell_type": "markdown",
   "metadata": {},
   "source": [
    "## Data Preparation"
   ]
  },
  {
   "cell_type": "code",
   "execution_count": 6,
   "metadata": {
    "pycharm": {
     "name": "#%%\n"
    },
    "scrolled": false
   },
   "outputs": [
    {
     "name": "stdout",
     "output_type": "stream",
     "text": [
      "'horse-or-human.zip' downloaded to '..\\.tmp'\n",
      "'horse-or-human.zip' extracted to '..\\.tmp\\horses-or-humans\\train-valid'\n",
      "'validation-horse-or-human.zip' downloaded to '..\\.tmp'\n",
      "'validation-horse-or-human.zip' extracted to '..\\.tmp\\horses-or-humans\\test'\n"
     ]
    }
   ],
   "source": [
    "data_url = 'https://storage.googleapis.com/laurencemoroney-blog.appspot.com/'\n",
    "root_dir = os.path.join('..', '.tmp')\n",
    "\n",
    "# download the train-validation dataset\n",
    "name_zip_1 = 'horse-or-human.zip'\n",
    "unzip_dir_1 = os.path.join('..', '.tmp', 'horses-or-humans', 'train-valid')\n",
    "download_zip_file(data_url, name_zip_1, root_dir, unzip_dir_1)\n",
    "\n",
    "# split the dataset to train and validation subsets\n",
    "for classname in ['horses', 'humans']:\n",
    "    split_dataset(\n",
    "            dir_source=os.path.join('..', '.tmp', 'horses-or-humans', 'train-valid', classname),\n",
    "            dir_train=os.path.join('..', '.tmp', 'horses-or-humans', 'train', classname),\n",
    "            dir_valid=os.path.join('..', '.tmp', 'horses-or-humans', 'valid', classname),\n",
    "            valid_ratio=0.2,\n",
    "    )\n",
    "\n",
    "# download the test dataset\n",
    "name_zip_2 = 'validation-horse-or-human.zip'\n",
    "unzip_dir_2 = os.path.join('..', '.tmp', 'horses-or-humans', 'test')\n",
    "download_zip_file(data_url, name_zip_2, root_dir, unzip_dir_2)"
   ]
  },
  {
   "cell_type": "code",
   "execution_count": 7,
   "metadata": {},
   "outputs": [
    {
     "name": "stdout",
     "output_type": "stream",
     "text": [
      "train/\n",
      "    horses/\n",
      "        horse01-0.png\n",
      "        horse01-1.png\n",
      "        horse01-2.png\n",
      "        ....(total 400 files)\n",
      "    humans/\n",
      "        human01-00.png\n",
      "        human01-01.png\n",
      "        human01-02.png\n",
      "        ....(total 422 files)\n",
      "valid/\n",
      "    horses/\n",
      "        horse01-9.png\n",
      "        horse03-5.png\n",
      "        horse03-8.png\n",
      "        ....(total 100 files)\n",
      "    humans/\n",
      "        human01-03.png\n",
      "        human01-04.png\n",
      "        human01-06.png\n",
      "        ....(total 105 files)\n",
      "test/\n",
      "    horses/\n",
      "        horse1-000.png\n",
      "        horse1-105.png\n",
      "        horse1-122.png\n",
      "        ....(total 128 files)\n",
      "    humans/\n",
      "        valhuman01-00.png\n",
      "        valhuman01-01.png\n",
      "        valhuman01-02.png\n",
      "        ....(total 128 files)\n"
     ]
    }
   ],
   "source": [
    "# see the file structures\n",
    "for subset in ['train', 'valid', 'test']:\n",
    "    file_structure(os.path.join('..', '.tmp', 'horses-or-humans', subset))"
   ]
  }
 ],
 "metadata": {
  "kernelspec": {
   "display_name": "Python 3",
   "language": "python",
   "name": "python3"
  },
  "language_info": {
   "codemirror_mode": {
    "name": "ipython",
    "version": 3
   },
   "file_extension": ".py",
   "mimetype": "text/x-python",
   "name": "python",
   "nbconvert_exporter": "python",
   "pygments_lexer": "ipython3",
   "version": "3.7.7"
  }
 },
 "nbformat": 4,
 "nbformat_minor": 1
}