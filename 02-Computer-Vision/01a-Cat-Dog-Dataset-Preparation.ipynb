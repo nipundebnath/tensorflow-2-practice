{
 "cells": [
  {
   "cell_type": "markdown",
   "metadata": {
    "collapsed": true,
    "pycharm": {
     "name": "#%% md\n"
    }
   },
   "source": [
    "# **CONVOLUTIONAL NEURAL NETWORK (CNN)**\n",
    "\n",
    "## Problem\n",
    "\n",
    "Train a CNN on the [Cats-vs-Dogs dataset]().\n",
    "\n",
    "Note: Dataset is not divided into train-test subsets. Needs pre-processing."
   ]
  },
  {
   "cell_type": "markdown",
   "metadata": {},
   "source": [
    "## Initialize"
   ]
  },
  {
   "cell_type": "code",
   "execution_count": 1,
   "metadata": {
    "pycharm": {
     "name": "#%%\n"
    }
   },
   "outputs": [],
   "source": [
    "import os\n",
    "import zipfile\n",
    "import shutil\n",
    "\n",
    "import numpy as np\n",
    "import tensorflow as tf\n",
    "\n",
    "from matplotlib import pyplot as plt"
   ]
  },
  {
   "cell_type": "code",
   "execution_count": 2,
   "metadata": {
    "pycharm": {
     "name": "#%%\n"
    }
   },
   "outputs": [],
   "source": [
    "# set random seeds\n",
    "np.random.seed(0)\n",
    "tf.random.set_seed(0)\n",
    "\n",
    "# show figures inline\n",
    "%matplotlib inline\n",
    "\n",
    "# TODO: use `os.path.join()` instead of `/`."
   ]
  },
  {
   "cell_type": "markdown",
   "metadata": {},
   "source": [
    "## Dataset\n",
    "\n",
    "**Download the dataset**"
   ]
  },
  {
   "cell_type": "code",
   "execution_count": 3,
   "metadata": {
    "pycharm": {
     "name": "#%%\n"
    }
   },
   "outputs": [
    {
     "name": "stdout",
     "output_type": "stream",
     "text": [
      "cats-and-dogs/\n",
      "    MSR-LA - 3467.docx\n",
      "    readme[1].txt\n",
      "    PetImages/\n",
      "        Cat/\n",
      "            0.jpg\n",
      "            1.jpg\n",
      "            10.jpg\n",
      "            ...\n",
      "        Dog/\n",
      "            0.jpg\n",
      "            1.jpg\n",
      "            10.jpg\n",
      "            ...\n"
     ]
    }
   ],
   "source": [
    "DATA_URL = 'https://download.microsoft.com/download/3/E/1/' \\\n",
    "           '3E1C3F21-ECDB-4869-8368-6DEBA77B919F/kagglecatsanddogs_3367a.zip'\n",
    "SAVE_DIR = '../.tmp'\n",
    "NAME_ZIP = 'cats-and-dogs.zip'\n",
    "ROOT_DIR = f'../.tmp/cats-and-dogs'\n",
    "\n",
    "# if not already there, download the files\n",
    "if not os.path.exists(ROOT_DIR):\n",
    "    # download the dataset\n",
    "    os.makedirs(SAVE_DIR, exist_ok=True)\n",
    "    os.system(f\"\"\"wget --no-check-certificate {DATA_URL} -O {SAVE_DIR}/{NAME_ZIP}\"\"\")\n",
    "\n",
    "    # unzip the file\n",
    "    zip_ref = zipfile.ZipFile(f'{SAVE_DIR}/{NAME_ZIP}', 'r')\n",
    "    zip_ref.extractall(ROOT_DIR)\n",
    "    zip_ref.close()\n",
    "\n",
    "# see the file structure\n",
    "for root, dirs, files in os.walk(ROOT_DIR):\n",
    "    level = root.replace(ROOT_DIR, '').count(os.sep)\n",
    "    indent = ' ' * 4 * level\n",
    "    print(f'{indent}{os.path.basename(root)}/')\n",
    "    subindent = ' ' * 4 * (level + 1)\n",
    "    for i, f in enumerate(files):\n",
    "        print(f'{subindent}{f}')\n",
    "        if i >= 2:\n",
    "            print(f'{subindent}...')\n",
    "            break"
   ]
  },
  {
   "cell_type": "code",
   "execution_count": 4,
   "metadata": {
    "pycharm": {
     "name": "#%%\n"
    }
   },
   "outputs": [
    {
     "name": "stdout",
     "output_type": "stream",
     "text": [
      "# cat images: 12501\n",
      "# dog images: 12501\n"
     ]
    }
   ],
   "source": [
    "# see number of files\n",
    "print('# cat images:', len(os.listdir(f'{ROOT_DIR}/PetImages/Cat/')))\n",
    "print('# dog images:', len(os.listdir(f'{ROOT_DIR}/PetImages/Dog/')))"
   ]
  },
  {
   "cell_type": "markdown",
   "metadata": {},
   "source": [
    "## Data Preparation\n",
    "**Split the dataset**"
   ]
  },
  {
   "cell_type": "code",
   "execution_count": 5,
   "metadata": {
    "pycharm": {
     "name": "#%%\n"
    }
   },
   "outputs": [
    {
     "name": "stdout",
     "output_type": "stream",
     "text": [
      "directory '../.tmp/cats-and-dogs/train/cat' is created\n",
      "directory '../.tmp/cats-and-dogs/train/dog' is created\n",
      "directory '../.tmp/cats-and-dogs/valid/cat' is created\n",
      "directory '../.tmp/cats-and-dogs/valid/dog' is created\n",
      "directory '../.tmp/cats-and-dogs/test/cat' is created\n",
      "directory '../.tmp/cats-and-dogs/test/dog' is created\n"
     ]
    }
   ],
   "source": [
    "# create training, validation, and testing folders\n",
    "for subset in ['train', 'valid', 'test']:\n",
    "    for class_name in ['cat', 'dog']:\n",
    "        os.makedirs(f'{ROOT_DIR}/{subset}/{class_name}', exist_ok=True)\n",
    "        print(f\"directory '{ROOT_DIR}/{subset}/{class_name}' is created\")"
   ]
  },
  {
   "cell_type": "code",
   "execution_count": 6,
   "metadata": {
    "pycharm": {
     "name": "#%%\n"
    }
   },
   "outputs": [],
   "source": [
    "def split_dataset(dir_source, dir_train, dir_valid, dir_test, valid_ratio, test_ratio):\n",
    "    \"\"\"\n",
    "    Reads the files available in 'dir_source'.\n",
    "    Splits it by 'valid_ratio' (valid to total ratio), and\n",
    "         'testratio' (test to total ratio).\n",
    "    Puts the training, validation and testing files\n",
    "         in 'dir_train', 'dir_valid' and 'dir_test' folders,\n",
    "         respectively.\n",
    "    \"\"\"\n",
    "\n",
    "    # get all the filenames in source folder\n",
    "    filenames = []  # list of all file names\n",
    "\n",
    "    # read the source files\n",
    "    for fn in os.listdir(dir_source):\n",
    "        filepath = f'{dir_source}/{fn}'\n",
    "        # if file's size >0, append to the list\n",
    "        if os.path.getsize(filepath) > 0:\n",
    "            filenames.append(fn)\n",
    "        else:\n",
    "            print(f\"Size of '{fn}' is zero. So, ignored.\")\n",
    "\n",
    "    # determine the size of validation and testing subsets\n",
    "    num_valid = int(len(filenames) * valid_ratio)\n",
    "    num_test = int(len(filenames) * test_ratio)\n",
    "\n",
    "    # remaining files are for training\n",
    "    num_train = len(filenames) - num_valid - num_test\n",
    "\n",
    "    # randomly shuffle the file names\n",
    "    np.random.shuffle(filenames)\n",
    "\n",
    "    # training and testing subsets\n",
    "    train_files = filenames[:num_train]\n",
    "    valid_files = filenames[num_train:num_train+num_valid]\n",
    "    test_files = filenames[num_train+num_valid:]\n",
    "\n",
    "    # function for copying all files\n",
    "    def copy_all_files(src, dst, file_names):\n",
    "        for file in file_names:\n",
    "            shutil.copy(f'{src}/{file}', f'{dst}/{file}')\n",
    "\n",
    "    # copy training files\n",
    "    copy_all_files(dir_source, dir_train, train_files)\n",
    "    # copy validation files\n",
    "    copy_all_files(dir_source, dir_valid, valid_files)\n",
    "    # copy test files\n",
    "    copy_all_files(dir_source, dir_test, test_files)"
   ]
  },
  {
   "cell_type": "code",
   "execution_count": 7,
   "metadata": {
    "pycharm": {
     "name": "#%%\n"
    }
   },
   "outputs": [
    {
     "name": "stdout",
     "output_type": "stream",
     "text": [
      "Size of '666.jpg' is zero. So, ignored.\n",
      "Size of '11702.jpg' is zero. So, ignored.\n"
     ]
    }
   ],
   "source": [
    "VALID_RATIO = 0.1\n",
    "TEST_RATIO = 0.1\n",
    "\n",
    "# split the cat and dog images into training and testing subsets\n",
    "for class_name in ['cat', 'dog']:\n",
    "    # source directory\n",
    "    _dir_source = f'{ROOT_DIR}/PetImages/{class_name.capitalize()}'\n",
    "\n",
    "    # train-test directories\n",
    "    _dir_train = f'{ROOT_DIR}/train/{class_name}'\n",
    "    _dir_valid = f'{ROOT_DIR}/valid/{class_name}'\n",
    "    _dir_test = f'{ROOT_DIR}/test/{class_name}'\n",
    "\n",
    "    # split the dataset\n",
    "    split_dataset(_dir_source, _dir_train, _dir_valid, _dir_test, VALID_RATIO, TEST_RATIO)\n"
   ]
  },
  {
   "cell_type": "code",
   "execution_count": 8,
   "metadata": {
    "pycharm": {
     "name": "#%%\n"
    }
   },
   "outputs": [
    {
     "name": "stdout",
     "output_type": "stream",
     "text": [
      "train\n",
      "    cat: 10000 images.\n",
      "    dog: 10000 images.\n",
      "valid\n",
      "    cat: 1250 images.\n",
      "    dog: 1250 images.\n",
      "test\n",
      "    cat: 1250 images.\n",
      "    dog: 1250 images.\n"
     ]
    }
   ],
   "source": [
    "# print number of files\n",
    "for subset in ['train', 'valid', 'test']:\n",
    "    print(subset)\n",
    "    for class_name in ['cat', 'dog']:\n",
    "        num_files = len(os.listdir(f'{ROOT_DIR}/{subset}/{class_name}'))\n",
    "        print(f'    {class_name}: {num_files} images.')"
   ]
  }
 ],
 "metadata": {
  "kernelspec": {
   "display_name": "Python 3",
   "language": "python",
   "name": "python3"
  },
  "language_info": {
   "codemirror_mode": {
    "name": "ipython",
    "version": 3
   },
   "file_extension": ".py",
   "mimetype": "text/x-python",
   "name": "python",
   "nbconvert_exporter": "python",
   "pygments_lexer": "ipython3",
   "version": "3.7.7"
  }
 },
 "nbformat": 4,
 "nbformat_minor": 1
}