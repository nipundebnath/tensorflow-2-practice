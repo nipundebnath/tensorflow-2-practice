{
 "cells": [
  {
   "cell_type": "markdown",
   "metadata": {
    "pycharm": {
     "name": "#%% md\n"
    }
   },
   "source": [
    "# **CONVOLUTIONAL NEURAL NETWORK (CNN)**\n",
    "\n",
    "## Problem\n",
    "\n",
    "Train a CNN on the [sign-language dataset](https://www.kaggle.com/datamunge/sign-language-mnist/home).\n"
   ]
  },
  {
   "cell_type": "markdown",
   "metadata": {
    "pycharm": {
     "name": "#%% md\n"
    }
   },
   "source": [
    "## Initialize"
   ]
  },
  {
   "cell_type": "code",
   "execution_count": 1,
   "metadata": {
    "jupyter": {
     "outputs_hidden": false
    },
    "pycharm": {
     "name": "#%%\n"
    }
   },
   "outputs": [],
   "source": [
    "import cv2\n",
    "import csv\n",
    "import warnings\n",
    "import numpy as np\n",
    "import pandas as pd\n",
    "import tensorflow as tf\n",
    "\n",
    "from tensorflow.keras.layers import Input, Dense, Flatten, Conv2D, MaxPool2D, Dropout\n",
    "from tensorflow.keras.optimizers import Adam\n",
    "from tensorflow.keras.preprocessing.image import ImageDataGenerator\n",
    "from tensorflow.keras.callbacks import ReduceLROnPlateau, EarlyStopping, TensorBoard\n",
    "from tensorflow.keras.applications.inception_v3 import InceptionV3\n",
    "\n",
    "from sklearn.metrics import confusion_matrix, precision_score, recall_score, f1_score\n",
    "from matplotlib import pyplot as plt"
   ]
  },
  {
   "cell_type": "code",
   "execution_count": 2,
   "metadata": {
    "pycharm": {
     "name": "#%%\n"
    }
   },
   "outputs": [],
   "source": [
    "# set random seeds\n",
    "np.random.seed(0)\n",
    "tf.random.set_seed(0)\n",
    "\n",
    "# show figures inline\n",
    "%matplotlib inline\n",
    "\n",
    "# ignore all warning (NOT recommended)\n",
    "warnings.filterwarnings(\"ignore\")"
   ]
  },
  {
   "cell_type": "markdown",
   "metadata": {},
   "source": [
    "## Inputs"
   ]
  },
  {
   "cell_type": "code",
   "execution_count": 3,
   "metadata": {},
   "outputs": [],
   "source": [
    "# input image size\n",
    "INPUT_SIZE = (28, 28, 3)\n",
    "\n",
    "# number of classes\n",
    "NUM_CLASSES = 26\n",
    "\n",
    "# batch size\n",
    "BATCH_SIZE = 128\n",
    "\n",
    "# ratio of validation data to use\n",
    "VALIDATION_SPLIT = 0.2"
   ]
  },
  {
   "cell_type": "markdown",
   "metadata": {
    "pycharm": {
     "name": "#%% md\n"
    }
   },
   "source": [
    "**Dataset directories**\n",
    "\n",
    "- Manually, dowload the dataset from [here](https://www.kaggle.com/datamunge/sign-language-mnist/home).\n",
    "- Unzip to a folder (`ROOT_DIR`).\n",
    "- The root folder should contain `sign_mnist_train.csv` and `sign_mnist_test.csv` files."
   ]
  },
  {
   "cell_type": "code",
   "execution_count": 4,
   "metadata": {},
   "outputs": [],
   "source": [
    "# root directory\n",
    "ROO_DIR = '../.tmp/sign-language-mnist'\n",
    "\n",
    "# train and test csv files\n",
    "TRAIN_CSV = ROO_DIR + '/sign_mnist_train.csv'\n",
    "TEST_CSV = ROO_DIR + '/sign_mnist_test.csv'\n",
    "\n",
    "# directory for log\n",
    "DIR_LOG = '03-logs'"
   ]
  },
  {
   "cell_type": "markdown",
   "metadata": {},
   "source": [
    "## Dataset"
   ]
  },
  {
   "cell_type": "markdown",
   "metadata": {
    "pycharm": {
     "name": "#%% md\n"
    }
   },
   "source": [
    "**Read the dataset**\n",
    "- The dataset is in `CSV` files.\n",
    "- Row represnt a sample.\n",
    "- 1st column is the label (0-26).\n",
    "- 2nd to 785th column represent pixel values (0-255) in a 28$\\times$28 image."
   ]
  },
  {
   "cell_type": "code",
   "execution_count": 5,
   "metadata": {
    "pycharm": {
     "name": "#%%\n"
    }
   },
   "outputs": [
    {
     "name": "stdout",
     "output_type": "stream",
     "text": [
      "Train \n",
      "    x: (27455, 28, 28, 1), y: (27455,)\n",
      "Test \n",
      "    x: (7172, 28, 28, 1), y: (7172,)\n"
     ]
    }
   ],
   "source": [
    "def read_data(filename):\n",
    "    # read the csv file as pandas dataframe\n",
    "    df = pd.read_csv(filename, sep=',')\n",
    "\n",
    "    # the 1st column, header 'label' is the label\n",
    "    labels = df['label'].to_numpy('int')\n",
    "\n",
    "    # the remaining 784 columns are 28x28 pixels\n",
    "    images = df.iloc[:, 1:].to_numpy('float').reshape([-1, 28, 28, 1])\n",
    "\n",
    "    return images, labels\n",
    "\n",
    "# read the training and testing dataset\n",
    "x_train, y_train = read_data(TRAIN_CSV)\n",
    "x_test, y_test = read_data(TEST_CSV)\n",
    "\n",
    "# check the shapes\n",
    "print(f'Train \\n    x: {x_train.shape}, y: {y_train.shape}')\n",
    "print(f'Test \\n    x: {x_test.shape}, y: {y_test.shape}')"
   ]
  },
  {
   "cell_type": "markdown",
   "metadata": {
    "pycharm": {
     "name": "#%% md\n"
    }
   },
   "source": [
    "**Dataset splitting**"
   ]
  },
  {
   "cell_type": "code",
   "execution_count": 6,
   "metadata": {
    "pycharm": {
     "name": "#%%\n"
    }
   },
   "outputs": [
    {
     "name": "stdout",
     "output_type": "stream",
     "text": [
      "Train \n",
      "    x: (21964, 28, 28, 1), y: (21964,)\n",
      "Valid \n",
      "    x: (5491, 28, 28, 1), y: (5491,)\n",
      "Test \n",
      "    x: (7172, 28, 28, 1), y: (7172,)\n"
     ]
    }
   ],
   "source": [
    "# number of total and training images\n",
    "num_total = len(x_train)\n",
    "num_train = num_total - int(num_total * VALIDATION_SPLIT)\n",
    "\n",
    "# get randomly shuffled indices\n",
    "idc = np.arange(num_total)\n",
    "np.random.shuffle(idc)\n",
    "\n",
    "# training and validation indices\n",
    "idc_train = idc[:num_train]\n",
    "idc_valid = idc[num_train:]\n",
    "\n",
    "# gathered the dataset from the indices\n",
    "x_valid = x_train[idc_valid]\n",
    "y_valid = y_train[idc_valid]\n",
    "\n",
    "x_train = x_train[idc_train]\n",
    "y_train = y_train[idc_train]\n",
    "\n",
    "# check new shapes\n",
    "print(f'Train \\n    x: {x_train.shape}, y: {y_train.shape}')\n",
    "print(f'Valid \\n    x: {x_valid.shape}, y: {y_valid.shape}')\n",
    "print(f'Test \\n    x: {x_test.shape}, y: {y_test.shape}')"
   ]
  },
  {
   "cell_type": "markdown",
   "metadata": {
    "pycharm": {
     "name": "#%% md\n"
    }
   },
   "source": [
    "## Data Augmentation\n",
    "\n",
    "[See tensorflow docs](https://www.tensorflow.org/api_docs/python/tf/keras/preprocessing/image/ImageDataGenerator).\n",
    "\n",
    "**Note**\n",
    "- We perform augmentation only for the training images.\n",
    "- We normalize all training, validation, and testing images.\n",
    "- We do not need to shuffle the validation and testing images."
   ]
  },
  {
   "cell_type": "code",
   "execution_count": 7,
   "metadata": {
    "pycharm": {
     "name": "#%%\n"
    },
    "scrolled": false
   },
   "outputs": [],
   "source": [
    "# generate image data with normalization and augmentation\n",
    "train_datagen = ImageDataGenerator(\n",
    "    rescale=1 / 255.,\n",
    "    rotation_range=5,\n",
    "    width_shift_range=0.2,\n",
    "    height_shift_range=0.2,\n",
    "    brightness_range=(0.8, 1.2),\n",
    "    shear_range=0.2,\n",
    "    zoom_range=0.2,\n",
    "    fill_mode='nearest',\n",
    "    horizontal_flip=True,\n",
    ")\n",
    "\n",
    "# train data generator\n",
    "train_generator = train_datagen.flow(\n",
    "    x_train, y_train,\n",
    "    batch_size=BATCH_SIZE,\n",
    "    shuffle=True,\n",
    "    seed=0\n",
    ")\n",
    "\n",
    "# generate image data only with normalization\n",
    "test_datagen = ImageDataGenerator(\n",
    "    rescale=1 / 255.,\n",
    ")\n",
    "\n",
    "# validation data generator\n",
    "valid_generator = test_datagen.flow(\n",
    "    x_valid, y_valid,\n",
    "    batch_size=BATCH_SIZE,\n",
    "    shuffle=False\n",
    ")\n",
    "\n",
    "# test data generator\n",
    "test_generator = test_datagen.flow(\n",
    "    x_test, y_test,\n",
    "    batch_size=BATCH_SIZE,\n",
    "    shuffle=False\n",
    ")"
   ]
  },
  {
   "cell_type": "markdown",
   "metadata": {
    "pycharm": {
     "name": "#%% md\n"
    }
   },
   "source": [
    "#### Check a few image"
   ]
  },
  {
   "cell_type": "code",
   "execution_count": 8,
   "metadata": {
    "pycharm": {
     "name": "#%%\n"
    }
   },
   "outputs": [
    {
     "data": {
      "image/png": "[encoded data removed]",
      "text/plain": [
       "<Figure size 1296x864 with 30 Axes>"
      ]
     },
     "metadata": {
      "needs_background": "light"
     },
     "output_type": "display_data"
    }
   ],
   "source": [
    "# set subplot numbers\n",
    "num_rows = 5\n",
    "num_cols = 6\n",
    "\n",
    "# get some images\n",
    "rand_idc = np.random.randint(len(x_train), size=num_rows)\n",
    "imgs = x_train[rand_idc]\n",
    "lbls = y_train[rand_idc]\n",
    "\n",
    "plt.figure(figsize=(18, 12))\n",
    "\n",
    "for i in range(num_rows):\n",
    "\n",
    "    # show the original image\n",
    "    plt.subplot(num_rows, num_cols, i*num_cols + 1)\n",
    "    plt.title(f'Original [Label: {int(lbls[i])}]')\n",
    "    plt.axis('off')\n",
    "    plt.imshow(imgs[i].squeeze(), 'gray')\n",
    "\n",
    "    # get augmented images\n",
    "    for j in range(1, num_cols):\n",
    "        # perform random augmentation\n",
    "        # NOTE: it performs all random transformation defined in 'train_datagen'\n",
    "        # except the rescaling\n",
    "        aug_img = train_datagen.random_transform(imgs[i])\n",
    "\n",
    "        # convert float to uint8\n",
    "        aug_img = aug_img.astype('uint8')\n",
    "\n",
    "        # plot the figures\n",
    "        plt.subplot(num_rows, num_cols, i*num_cols + j + 1)\n",
    "        plt.title(f'Augmented #{j}')\n",
    "        plt.axis('off')\n",
    "        plt.imshow(aug_img.squeeze(), 'gray')\n",
    "\n",
    "plt.show()"
   ]
  },
  {
   "cell_type": "markdown",
   "metadata": {
    "pycharm": {
     "name": "#%% md\n"
    }
   },
   "source": [
    "## Model\n",
    "\n",
    "**Note**\n",
    "- The problem is multi-class classification.\n",
    "- Use `'softmax'` activation function in the output layer.\n",
    "- Labels are of ordinal category.\n",
    "- Use `'sparse_categorical_crossentropy'` loss."
   ]
  },
  {
   "cell_type": "code",
   "execution_count": 9,
   "metadata": {
    "pycharm": {
     "name": "#%%\n"
    }
   },
   "outputs": [
    {
     "name": "stdout",
     "output_type": "stream",
     "text": [
      "Model: \"model\"\n",
      "_________________________________________________________________\n",
      "Layer (type)                 Output Shape              Param #   \n",
      "=================================================================\n",
      "input_1 (InputLayer)         [(None, 28, 28, 1)]       0         \n",
      "_________________________________________________________________\n",
      "conv2d (Conv2D)              (None, 26, 26, 16)        160       \n",
      "_________________________________________________________________\n",
      "max_pooling2d (MaxPooling2D) (None, 13, 13, 16)        0         \n",
      "_________________________________________________________________\n",
      "conv2d_1 (Conv2D)            (None, 11, 11, 32)        4640      \n",
      "_________________________________________________________________\n",
      "max_pooling2d_1 (MaxPooling2 (None, 5, 5, 32)          0         \n",
      "_________________________________________________________________\n",
      "flatten (Flatten)            (None, 800)               0         \n",
      "_________________________________________________________________\n",
      "dense (Dense)                (None, 128)               102528    \n",
      "_________________________________________________________________\n",
      "dense_1 (Dense)              (None, 26)                3354      \n",
      "=================================================================\n",
      "Total params: 110,682\n",
      "Trainable params: 110,682\n",
      "Non-trainable params: 0\n",
      "_________________________________________________________________\n"
     ]
    }
   ],
   "source": [
    "# input layer\n",
    "input_tensor = Input(shape=[28, 28, 1])\n",
    "\n",
    "# convolution layers\n",
    "x = Conv2D(16, 3, activation='relu')(input_tensor)\n",
    "x = MaxPool2D()(x)\n",
    "x = Conv2D(32, 3, activation='relu')(x)\n",
    "x = MaxPool2D()(x)\n",
    "\n",
    "# fully-connected layers\n",
    "x = Flatten()(x)\n",
    "x = Dense(128, activation='relu')(x)\n",
    "\n",
    "# output layer with 'softmax' activation function\n",
    "output_tensor = Dense(NUM_CLASSES, activation='softmax')(x)\n",
    "\n",
    "# model\n",
    "model = tf.keras.Model(input_tensor, output_tensor)\n",
    "\n",
    "# compile with 'sparse_categorical_crossentropy' loss\n",
    "model.compile(\n",
    "    optimizer=Adam(),\n",
    "    loss='sparse_categorical_crossentropy',\n",
    "    metrics=['acc']\n",
    ")\n",
    "\n",
    "# model summary\n",
    "model.summary()"
   ]
  },
  {
   "cell_type": "markdown",
   "metadata": {
    "pycharm": {
     "name": "#%% md\n"
    }
   },
   "source": [
    "## Callback\n",
    "\n",
    "- You can use [pre-defined callbacks](https://www.tensorflow.org/api_docs/python/tf/keras/callbacks).\n",
    "- Or, you can define custom callback to have more control over what happens during the training or prediction.\n",
    "[See more](https://www.tensorflow.org/api_docs/python/tf/keras/callbacks/Callback).\n",
    "\n",
    "\n",
    "**`ReduceLROnPlateau()`**\n",
    "- Reduces the learning rate by a factor (defined in `factor`)\n",
    "if the monitored metric (defined in`monitor`) does not improve\n",
    "for a number of consecutive eporchs (defined in `patience`).\n",
    "\n",
    "**`EarlyStopping()`**\n",
    "- Stops the training if the monitored metric (defined in`monitor`)\n",
    "does not improve by a defined amount (`min_delta`)\n",
    "for a number of consecutive eporchs (defined in `patience`).\n",
    "\n",
    "**`TensorBoard()`**\n",
    "- Enables tensorboard visualization.\n",
    "- Launce from commandline: ```tensorboard --logdir=path_to_your_logs```\n",
    "\n",
    "**Note**\n",
    "- For metric that needs to be decreasing (e.g., loss), use `mode='min'` or `mode='auto'` (default).\n",
    "- For metric that needs to be increasing (e.g., accuracy), use `mode='max'`."
   ]
  },
  {
   "cell_type": "code",
   "execution_count": 10,
   "metadata": {
    "pycharm": {
     "name": "#%%\n"
    }
   },
   "outputs": [],
   "source": [
    "# reduce learning rate\n",
    "reduce_rl = ReduceLROnPlateau(\n",
    "    monitor='val_acc', mode='max', factor=0.1, patience=3, verbose=2\n",
    ")\n",
    "\n",
    "# stop training\n",
    "early_stopping = EarlyStopping(\n",
    "    monitor='val_acc',  mode='max', min_delta=0, patience=10, verbose=2, restore_best_weights=True\n",
    ")\n",
    "\n",
    "# visualize in tensorboard\n",
    "tensorboard = TensorBoard(log_dir=DIR_LOG)\n",
    "\n",
    "# commandline from root directory:\n",
    "# tensorboard --logdir=02-Computer-Vision/02-logs"
   ]
  },
  {
   "cell_type": "markdown",
   "metadata": {
    "pycharm": {
     "name": "#%% md\n"
    }
   },
   "source": [
    "## Training"
   ]
  },
  {
   "cell_type": "code",
   "execution_count": 11,
   "metadata": {
    "pycharm": {
     "is_executing": true,
     "name": "#%%\n"
    }
   },
   "outputs": [
    {
     "name": "stdout",
     "output_type": "stream",
     "text": [
      "WARNING:tensorflow:sample_weight modes were coerced from\n",
      "  ...\n",
      "    to  \n",
      "  ['...']\n",
      "WARNING:tensorflow:sample_weight modes were coerced from\n",
      "  ...\n",
      "    to  \n",
      "  ['...']\n",
      "Train for 172 steps, validate for 43 steps\n",
      "Epoch 1/100\n",
      "172/172 [==============================] - 8s 49ms/step - loss: 3.0534 - acc: 0.0966 - val_loss: 2.5226 - val_acc: 0.2697\n",
      "Epoch 2/100\n",
      "172/172 [==============================] - 7s 41ms/step - loss: 2.4838 - acc: 0.2543 - val_loss: 1.9234 - val_acc: 0.3742\n",
      "Epoch 3/100\n",
      "172/172 [==============================] - 7s 41ms/step - loss: 2.0901 - acc: 0.3514 - val_loss: 1.6470 - val_acc: 0.4892\n",
      "Epoch 4/100\n",
      "172/172 [==============================] - 7s 41ms/step - loss: 1.8514 - acc: 0.4167 - val_loss: 1.2590 - val_acc: 0.6392\n",
      "Epoch 5/100\n",
      "172/172 [==============================] - 7s 41ms/step - loss: 1.6897 - acc: 0.4603 - val_loss: 1.2063 - val_acc: 0.6420\n",
      "Epoch 6/100\n",
      "172/172 [==============================] - 7s 41ms/step - loss: 1.5730 - acc: 0.4993 - val_loss: 1.1425 - val_acc: 0.6207\n",
      "Epoch 7/100\n",
      "172/172 [==============================] - 7s 42ms/step - loss: 1.4527 - acc: 0.5344 - val_loss: 0.9495 - val_acc: 0.7319\n",
      "Epoch 8/100\n",
      "172/172 [==============================] - 7s 41ms/step - loss: 1.3773 - acc: 0.5560 - val_loss: 1.0219 - val_acc: 0.6736\n",
      "Epoch 9/100\n",
      "172/172 [==============================] - 7s 42ms/step - loss: 1.2895 - acc: 0.5860 - val_loss: 0.7925 - val_acc: 0.7729\n",
      "Epoch 10/100\n",
      "172/172 [==============================] - 7s 42ms/step - loss: 1.2166 - acc: 0.6151 - val_loss: 0.7479 - val_acc: 0.7909\n",
      "Epoch 11/100\n",
      "172/172 [==============================] - 7s 42ms/step - loss: 1.1540 - acc: 0.6338 - val_loss: 0.6610 - val_acc: 0.7999\n",
      "Epoch 12/100\n",
      "172/172 [==============================] - 7s 42ms/step - loss: 1.0810 - acc: 0.6506 - val_loss: 0.6743 - val_acc: 0.7915\n",
      "Epoch 13/100\n",
      "172/172 [==============================] - 7s 42ms/step - loss: 1.0354 - acc: 0.6699 - val_loss: 0.6350 - val_acc: 0.7864\n",
      "Epoch 14/100\n",
      "172/172 [==============================] - 7s 42ms/step - loss: 0.9674 - acc: 0.6871 - val_loss: 0.6459 - val_acc: 0.8011\n",
      "Epoch 15/100\n",
      "172/172 [==============================] - 7s 42ms/step - loss: 0.9341 - acc: 0.7025 - val_loss: 0.6039 - val_acc: 0.8040\n",
      "Epoch 16/100\n",
      "172/172 [==============================] - 7s 42ms/step - loss: 0.8918 - acc: 0.7125 - val_loss: 0.5475 - val_acc: 0.8255\n",
      "Epoch 17/100\n",
      "172/172 [==============================] - 7s 42ms/step - loss: 0.8622 - acc: 0.7215 - val_loss: 0.5228 - val_acc: 0.8304\n",
      "Epoch 18/100\n",
      "172/172 [==============================] - 7s 42ms/step - loss: 0.8024 - acc: 0.7421 - val_loss: 0.3922 - val_acc: 0.8891\n",
      "Epoch 19/100\n",
      "172/172 [==============================] - 7s 42ms/step - loss: 0.7819 - acc: 0.7465 - val_loss: 0.4017 - val_acc: 0.8809\n",
      "Epoch 20/100\n",
      "172/172 [==============================] - 7s 42ms/step - loss: 0.7644 - acc: 0.7549 - val_loss: 0.3697 - val_acc: 0.8935\n",
      "Epoch 21/100\n",
      "172/172 [==============================] - 7s 43ms/step - loss: 0.7405 - acc: 0.7578 - val_loss: 0.3732 - val_acc: 0.8873\n",
      "Epoch 22/100\n",
      "172/172 [==============================] - 7s 42ms/step - loss: 0.7052 - acc: 0.7710 - val_loss: 0.3964 - val_acc: 0.8756\n",
      "Epoch 23/100\n",
      "172/172 [==============================] - 7s 42ms/step - loss: 0.6871 - acc: 0.7807 - val_loss: 0.3286 - val_acc: 0.9015\n",
      "Epoch 24/100\n",
      "172/172 [==============================] - 7s 42ms/step - loss: 0.6575 - acc: 0.7854 - val_loss: 0.3120 - val_acc: 0.9042\n",
      "Epoch 25/100\n",
      "172/172 [==============================] - 7s 42ms/step - loss: 0.6385 - acc: 0.7944 - val_loss: 0.2850 - val_acc: 0.9191\n",
      "Epoch 26/100\n",
      "172/172 [==============================] - 7s 42ms/step - loss: 0.6367 - acc: 0.7906 - val_loss: 0.2925 - val_acc: 0.9155\n",
      "Epoch 27/100\n",
      "172/172 [==============================] - 7s 42ms/step - loss: 0.6033 - acc: 0.8039 - val_loss: 0.3353 - val_acc: 0.8867\n",
      "Epoch 28/100\n",
      "171/172 [============================>.] - ETA: 0s - loss: 0.5886 - acc: 0.8086\n",
      "Epoch 00028: ReduceLROnPlateau reducing learning rate to 0.00010000000474974513.\n",
      "172/172 [==============================] - 7s 42ms/step - loss: 0.5885 - acc: 0.8086 - val_loss: 0.2975 - val_acc: 0.9093\n",
      "Epoch 29/100\n",
      "172/172 [==============================] - 7s 42ms/step - loss: 0.5426 - acc: 0.8276 - val_loss: 0.2500 - val_acc: 0.9262\n",
      "Epoch 30/100\n",
      "172/172 [==============================] - 7s 42ms/step - loss: 0.5152 - acc: 0.8375 - val_loss: 0.2560 - val_acc: 0.9206\n",
      "Epoch 31/100\n",
      "172/172 [==============================] - 7s 43ms/step - loss: 0.5304 - acc: 0.8310 - val_loss: 0.2606 - val_acc: 0.9197\n",
      "Epoch 32/100\n",
      "171/172 [============================>.] - ETA: 0s - loss: 0.5087 - acc: 0.8375- E\n",
      "Epoch 00032: ReduceLROnPlateau reducing learning rate to 1.0000000474974514e-05.\n",
      "172/172 [==============================] - 7s 43ms/step - loss: 0.5085 - acc: 0.8377 - val_loss: 0.2649 - val_acc: 0.9162\n",
      "Epoch 33/100\n",
      "172/172 [==============================] - 7s 42ms/step - loss: 0.5075 - acc: 0.8396 - val_loss: 0.2598 - val_acc: 0.9173\n",
      "Epoch 34/100\n",
      "172/172 [==============================] - 7s 43ms/step - loss: 0.5094 - acc: 0.8379 - val_loss: 0.2543 - val_acc: 0.9202\n",
      "Epoch 35/100\n",
      "171/172 [============================>.] - ETA: 0s - loss: 0.4982 - acc: 0.8413\n",
      "Epoch 00035: ReduceLROnPlateau reducing learning rate to 1.0000000656873453e-06.\n",
      "172/172 [==============================] - 7s 43ms/step - loss: 0.4982 - acc: 0.8412 - val_loss: 0.2617 - val_acc: 0.9162\n",
      "Epoch 36/100\n",
      "172/172 [==============================] - 7s 43ms/step - loss: 0.5022 - acc: 0.8402 - val_loss: 0.2583 - val_acc: 0.9173\n",
      "Epoch 37/100\n",
      "172/172 [==============================] - 7s 43ms/step - loss: 0.5065 - acc: 0.8420 - val_loss: 0.2573 - val_acc: 0.9182\n",
      "Epoch 38/100\n",
      "171/172 [============================>.] - ETA: 0s - loss: 0.4981 - acc: 0.8426\n",
      "Epoch 00038: ReduceLROnPlateau reducing learning rate to 1.0000001111620805e-07.\n",
      "172/172 [==============================] - 7s 43ms/step - loss: 0.4975 - acc: 0.8429 - val_loss: 0.2569 - val_acc: 0.9184\n",
      "Epoch 39/100\n",
      "171/172 [============================>.] - ETA: 0s - loss: 0.5009 - acc: 0.8393Restoring model weights from the end of the best epoch.\n",
      "172/172 [==============================] - 7s 43ms/step - loss: 0.5014 - acc: 0.8391 - val_loss: 0.2568 - val_acc: 0.9186\n",
      "Epoch 00039: early stopping\n"
     ]
    }
   ],
   "source": [
    "# train the model\n",
    "hist = model.fit(\n",
    "    train_generator,\n",
    "    validation_data = valid_generator,\n",
    "    epochs=100,\n",
    "    verbose=1,\n",
    "    callbacks=[reduce_rl, early_stopping, tensorboard]\n",
    ")"
   ]
  },
  {
   "cell_type": "markdown",
   "metadata": {
    "pycharm": {
     "name": "#%% md\n"
    }
   },
   "source": [
    "**Save model**\n",
    "\n",
    "`model.save()`\n",
    "- Saves entire model (architecture, weight, and state).\n",
    "- To load, use `tf.keras.models.load_model()`.\n",
    "\n",
    "`model.save_weights()`\n",
    "- Saves only the weights.\n",
    "- To load, build the model first. Then, `model.load_weights`."
   ]
  },
  {
   "cell_type": "code",
   "execution_count": 12,
   "metadata": {
    "pycharm": {
     "is_executing": true,
     "name": "#%%\n"
    }
   },
   "outputs": [],
   "source": [
    "# save the entire model\n",
    "model.save(DIR_LOG + '/cnn_model.h5', include_optimizer=False)"
   ]
  },
  {
   "cell_type": "markdown",
   "metadata": {
    "pycharm": {
     "name": "#%% md\n"
    }
   },
   "source": [
    "## Evauation"
   ]
  },
  {
   "cell_type": "code",
   "execution_count": 13,
   "metadata": {
    "pycharm": {
     "is_executing": true,
     "name": "#%%\n"
    }
   },
   "outputs": [],
   "source": [
    "# get prediction on the test images\n",
    "y_pred = model.predict(test_generator)\n",
    "\n",
    "if NUM_CLASSES == 2:\n",
    "    # for binary classification\n",
    "    y_pred = y_pred > 0.5\n",
    "elif NUM_CLASSES > 2:\n",
    "    # for multi-clas classification\n",
    "    y_pred = np.argmax(y_pred, axis=1)"
   ]
  },
  {
   "cell_type": "markdown",
   "metadata": {
    "pycharm": {
     "name": "#%% md\n"
    }
   },
   "source": [
    "**Confusion matrix**"
   ]
  },
  {
   "cell_type": "code",
   "execution_count": 14,
   "metadata": {
    "pycharm": {
     "is_executing": true,
     "name": "#%%\n"
    }
   },
   "outputs": [],
   "source": [
    "# confusion matrix\n",
    "conf_mat = confusion_matrix(y_test, y_pred, normalize='true')"
   ]
  },
  {
   "cell_type": "code",
   "execution_count": 15,
   "metadata": {
    "pycharm": {
     "is_executing": true,
     "name": "#%%\n"
    },
    "scrolled": true
   },
   "outputs": [
    {
     "data": {
      "image/png": "[encoded data removed]",
      "text/plain": [
       "<Figure size 1152x1152 with 1 Axes>"
      ]
     },
     "metadata": {
      "needs_background": "light"
     },
     "output_type": "display_data"
    }
   ],
   "source": [
    "# get name of the classes\n",
    "labels = list(range(NUM_CLASSES))\n",
    "# get indices of the classes\n",
    "indices = list(range(NUM_CLASSES))\n",
    "\n",
    "# figure for displaying the confusion matrix\n",
    "fig = plt.figure(figsize=(16, 16))\n",
    "ax = fig.gca()\n",
    "\n",
    "# display the confution matrix\n",
    "cax = ax.matshow(conf_mat, cmap='Blues')\n",
    "\n",
    "# show the values\n",
    "for (i, j), z in np.ndenumerate(conf_mat):\n",
    "    text_color = 'w' if i == j else 'k'\n",
    "    if z < 0.005:\n",
    "        continue\n",
    "    ax.text(j, i, '{:0.2f}'.format(z), ha='center', va='center', c=text_color)\n",
    "\n",
    "# title and axis labels\n",
    "plt.title('Confusion matrix')\n",
    "plt.xlabel('Predicted')\n",
    "plt.ylabel('True')\n",
    "\n",
    "# show class names\n",
    "plt.xticks(indices, labels)\n",
    "plt.yticks(indices, labels)\n",
    "ax.tick_params(axis='both', which='both', length=0)\n",
    "\n",
    "# show grid lines\n",
    "ax.set_xticks(np.arange(-.5, NUM_CLASSES, 1), minor=True)\n",
    "ax.set_yticks(np.arange(-.5, NUM_CLASSES, 1), minor=True)\n",
    "ax.grid(which='minor', color='k', linestyle='-', linewidth=1)\n",
    "\n",
    "plt.show()"
   ]
  },
  {
   "cell_type": "markdown",
   "source": [
    "**Other metrics**"
   ],
   "metadata": {
    "collapsed": false
   }
  },
  {
   "cell_type": "code",
   "execution_count": null,
   "outputs": [],
   "source": [
    "# calculate precision, recall, and f1 score\n",
    "precision = precision_score(y_test, y_pred, average=None)\n",
    "recall = recall_score(y_test, y_pred, average=None)\n",
    "f1 = f1_score(y_test, y_pred, average=None)"
   ],
   "metadata": {
    "collapsed": false,
    "pycharm": {
     "name": "#%%\n"
    }
   }
  },
  {
   "cell_type": "code",
   "execution_count": 17,
   "metadata": {
    "pycharm": {
     "is_executing": true,
     "name": "#%%\n"
    }
   },
   "outputs": [
    {
     "data": {
      "text/html": [
       "<div>\n",
       "<style scoped>\n",
       "    .dataframe tbody tr th:only-of-type {\n",
       "        vertical-align: middle;\n",
       "    }\n",
       "\n",
       "    .dataframe tbody tr th {\n",
       "        vertical-align: top;\n",
       "    }\n",
       "\n",
       "    .dataframe thead th {\n",
       "        text-align: right;\n",
       "    }\n",
       "</style>\n",
       "<table border=\"1\" class=\"dataframe\">\n",
       "  <thead>\n",
       "    <tr style=\"text-align: right;\">\n",
       "      <th></th>\n",
       "      <th>Precision</th>\n",
       "      <th>Recall</th>\n",
       "      <th>F1-score</th>\n",
       "    </tr>\n",
       "  </thead>\n",
       "  <tbody>\n",
       "    <tr>\n",
       "      <th>0</th>\n",
       "      <td>0.905292</td>\n",
       "      <td>0.981873</td>\n",
       "      <td>0.942029</td>\n",
       "    </tr>\n",
       "    <tr>\n",
       "      <th>1</th>\n",
       "      <td>0.984055</td>\n",
       "      <td>1.000000</td>\n",
       "      <td>0.991963</td>\n",
       "    </tr>\n",
       "    <tr>\n",
       "      <th>2</th>\n",
       "      <td>1.000000</td>\n",
       "      <td>0.722581</td>\n",
       "      <td>0.838951</td>\n",
       "    </tr>\n",
       "    <tr>\n",
       "      <th>3</th>\n",
       "      <td>0.989744</td>\n",
       "      <td>0.787755</td>\n",
       "      <td>0.877273</td>\n",
       "    </tr>\n",
       "    <tr>\n",
       "      <th>4</th>\n",
       "      <td>0.920168</td>\n",
       "      <td>0.879518</td>\n",
       "      <td>0.899384</td>\n",
       "    </tr>\n",
       "    <tr>\n",
       "      <th>5</th>\n",
       "      <td>0.831650</td>\n",
       "      <td>1.000000</td>\n",
       "      <td>0.908088</td>\n",
       "    </tr>\n",
       "    <tr>\n",
       "      <th>6</th>\n",
       "      <td>0.885794</td>\n",
       "      <td>0.913793</td>\n",
       "      <td>0.899576</td>\n",
       "    </tr>\n",
       "    <tr>\n",
       "      <th>7</th>\n",
       "      <td>0.971867</td>\n",
       "      <td>0.871560</td>\n",
       "      <td>0.918984</td>\n",
       "    </tr>\n",
       "    <tr>\n",
       "      <th>8</th>\n",
       "      <td>0.947368</td>\n",
       "      <td>1.000000</td>\n",
       "      <td>0.972973</td>\n",
       "    </tr>\n",
       "    <tr>\n",
       "      <th>9</th>\n",
       "      <td>0.942363</td>\n",
       "      <td>0.987915</td>\n",
       "      <td>0.964602</td>\n",
       "    </tr>\n",
       "    <tr>\n",
       "      <th>10</th>\n",
       "      <td>0.963134</td>\n",
       "      <td>1.000000</td>\n",
       "      <td>0.981221</td>\n",
       "    </tr>\n",
       "    <tr>\n",
       "      <th>11</th>\n",
       "      <td>0.855072</td>\n",
       "      <td>0.598985</td>\n",
       "      <td>0.704478</td>\n",
       "    </tr>\n",
       "    <tr>\n",
       "      <th>12</th>\n",
       "      <td>0.634529</td>\n",
       "      <td>0.972509</td>\n",
       "      <td>0.767978</td>\n",
       "    </tr>\n",
       "    <tr>\n",
       "      <th>13</th>\n",
       "      <td>0.820690</td>\n",
       "      <td>0.967480</td>\n",
       "      <td>0.888060</td>\n",
       "    </tr>\n",
       "    <tr>\n",
       "      <th>14</th>\n",
       "      <td>0.888312</td>\n",
       "      <td>0.985591</td>\n",
       "      <td>0.934426</td>\n",
       "    </tr>\n",
       "    <tr>\n",
       "      <th>15</th>\n",
       "      <td>0.993939</td>\n",
       "      <td>1.000000</td>\n",
       "      <td>0.996960</td>\n",
       "    </tr>\n",
       "    <tr>\n",
       "      <th>16</th>\n",
       "      <td>0.851351</td>\n",
       "      <td>0.875000</td>\n",
       "      <td>0.863014</td>\n",
       "    </tr>\n",
       "    <tr>\n",
       "      <th>17</th>\n",
       "      <td>0.792271</td>\n",
       "      <td>0.666667</td>\n",
       "      <td>0.724062</td>\n",
       "    </tr>\n",
       "    <tr>\n",
       "      <th>18</th>\n",
       "      <td>0.945813</td>\n",
       "      <td>0.774194</td>\n",
       "      <td>0.851441</td>\n",
       "    </tr>\n",
       "    <tr>\n",
       "      <th>19</th>\n",
       "      <td>0.984064</td>\n",
       "      <td>0.928571</td>\n",
       "      <td>0.955513</td>\n",
       "    </tr>\n",
       "    <tr>\n",
       "      <th>20</th>\n",
       "      <td>0.870879</td>\n",
       "      <td>0.916185</td>\n",
       "      <td>0.892958</td>\n",
       "    </tr>\n",
       "    <tr>\n",
       "      <th>21</th>\n",
       "      <td>0.909091</td>\n",
       "      <td>0.970874</td>\n",
       "      <td>0.938967</td>\n",
       "    </tr>\n",
       "    <tr>\n",
       "      <th>22</th>\n",
       "      <td>0.872549</td>\n",
       "      <td>1.000000</td>\n",
       "      <td>0.931937</td>\n",
       "    </tr>\n",
       "    <tr>\n",
       "      <th>23</th>\n",
       "      <td>1.000000</td>\n",
       "      <td>0.912651</td>\n",
       "      <td>0.954331</td>\n",
       "    </tr>\n",
       "    <tr>\n",
       "      <th>(Average)</th>\n",
       "      <td>0.906666</td>\n",
       "      <td>0.904737</td>\n",
       "      <td>0.899965</td>\n",
       "    </tr>\n",
       "  </tbody>\n",
       "</table>\n",
       "</div>"
      ],
      "text/plain": [
       "           Precision    Recall  F1-score\n",
       "0           0.905292  0.981873  0.942029\n",
       "1           0.984055  1.000000  0.991963\n",
       "2           1.000000  0.722581  0.838951\n",
       "3           0.989744  0.787755  0.877273\n",
       "4           0.920168  0.879518  0.899384\n",
       "5           0.831650  1.000000  0.908088\n",
       "6           0.885794  0.913793  0.899576\n",
       "7           0.971867  0.871560  0.918984\n",
       "8           0.947368  1.000000  0.972973\n",
       "9           0.942363  0.987915  0.964602\n",
       "10          0.963134  1.000000  0.981221\n",
       "11          0.855072  0.598985  0.704478\n",
       "12          0.634529  0.972509  0.767978\n",
       "13          0.820690  0.967480  0.888060\n",
       "14          0.888312  0.985591  0.934426\n",
       "15          0.993939  1.000000  0.996960\n",
       "16          0.851351  0.875000  0.863014\n",
       "17          0.792271  0.666667  0.724062\n",
       "18          0.945813  0.774194  0.851441\n",
       "19          0.984064  0.928571  0.955513\n",
       "20          0.870879  0.916185  0.892958\n",
       "21          0.909091  0.970874  0.938967\n",
       "22          0.872549  1.000000  0.931937\n",
       "23          1.000000  0.912651  0.954331\n",
       "(Average)   0.906666  0.904737  0.899965"
      ]
     },
     "execution_count": 18,
     "metadata": {},
     "output_type": "execute_result"
    }
   ],
   "source": [
    "# pandas data frame for storing the metrics\n",
    "df = pd.DataFrame({\n",
    "        'Precision': precision,\n",
    "        'Recall': recall,\n",
    "        'F1-score': f1\n",
    "}\n",
    ")\n",
    "\n",
    "# calculate the mean\n",
    "df.loc['(Average)'] = df.mean()\n",
    "\n",
    "# display\n",
    "df"
   ]
  }
 ],
 "metadata": {
  "kernelspec": {
   "display_name": "Python 3.7.7 64-bit ('tf2-plus': conda)",
   "language": "python",
   "name": "python37764bittf2pluscondaab7d8de0804d40f7b6e27d871405ec4e"
  },
  "language_info": {
   "codemirror_mode": {
    "name": "ipython",
    "version": 3
   },
   "file_extension": ".py",
   "mimetype": "text/x-python",
   "name": "python",
   "nbconvert_exporter": "python",
   "pygments_lexer": "ipython3",
   "version": "3.7.7"
  }
 },
 "nbformat": 4,
 "nbformat_minor": 4
}